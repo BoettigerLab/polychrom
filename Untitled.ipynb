{
 "cells": [
  {
   "cell_type": "code",
   "execution_count": 21,
   "metadata": {},
   "outputs": [
    {
     "name": "stdout",
     "output_type": "stream",
     "text": [
      "meow meow1 meow2 meow3\n",
      "bark bark1 bark2\n",
      "[('meow', ('meow1', 'meow2'), {'meowarg3': 'meow3'}), ('bark', ('bark1', 'bark2'), {})]\n"
     ]
    }
   ],
   "source": [
    "def record_calls(inFunction):\n",
    "    def myfunction(*args, **kwargs):\n",
    "        myself = args[0]\n",
    "        newargs = args[1:]\n",
    "        myself.kittens.append((inFunction.__name__, newargs, kwargs))\n",
    "        inFunction(*args, **kwargs)\n",
    "    return myfunction\n",
    "\n",
    "\n",
    "class cat(object):\n",
    "    def __init__(self):\n",
    "        self.kittens = []\n",
    "        \n",
    "    def recall(self,kittens):\n",
    "        for kitten in kittens:\n",
    "            getattr(self, kitten[0])(*kitten[1], **kitten[2])\n",
    "        \n",
    "    \n",
    "    @record_calls    \n",
    "    def meow(self,meowarg1, meowarg2, meowarg3=5):\n",
    "        print(f'meow {meowarg1} {meowarg2} {meowarg3}')\n",
    "        \n",
    "    @record_calls\n",
    "    def bark(self,  barkarg1, barkarg2=4):\n",
    "        print(f\"bark {barkarg1} {barkarg2}\")\n",
    "        pass\n",
    "            \n",
    "            \n",
    "daisy = cat()\n",
    "daisy.meow(\"meow1\", \"meow2\", meowarg3=\"meow3\")\n",
    "daisy.bark(\"bark1\", \"bark2\")\n",
    "print(daisy.kittens)"
   ]
  },
  {
   "cell_type": "code",
   "execution_count": 22,
   "metadata": {},
   "outputs": [
    {
     "name": "stdout",
     "output_type": "stream",
     "text": [
      "meow meow1 meow2 meow3\n",
      "bark bark1 bark2\n"
     ]
    }
   ],
   "source": [
    "molly = cat()\n",
    "molly.recall(daisy.kittens)"
   ]
  },
  {
   "cell_type": "code",
   "execution_count": null,
   "metadata": {},
   "outputs": [],
   "source": []
  }
 ],
 "metadata": {
  "_draft": {
   "nbviewer_url": "https://gist.github.com/8accbdfa8951209f02d054d316c41ba7"
  },
  "gist": {
   "data": {
    "description": "libs_tmp/openmm-polymer-new/Untitled.ipynb",
    "public": false
   },
   "id": "8accbdfa8951209f02d054d316c41ba7"
  },
  "kernelspec": {
   "display_name": "Python 3",
   "language": "python",
   "name": "python3"
  },
  "language_info": {
   "codemirror_mode": {
    "name": "ipython",
    "version": 3
   },
   "file_extension": ".py",
   "mimetype": "text/x-python",
   "name": "python",
   "nbconvert_exporter": "python",
   "pygments_lexer": "ipython3",
   "version": "3.7.2"
  }
 },
 "nbformat": 4,
 "nbformat_minor": 2
}
