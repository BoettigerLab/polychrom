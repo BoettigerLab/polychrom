{
 "cells": [
  {
   "cell_type": "code",
   "execution_count": 1,
   "metadata": {},
   "outputs": [],
   "source": [
    "import polychrom\n",
    "import numpy as np \n",
    "import warnings\n",
    "import h5py \n",
    "import glob\n",
    "from polychrom.simulation import Simulation\n",
    "import polychrom.starting_conformations\n",
    "import polychrom.forces, polychrom.forcekits\n",
    "import simtk.openmm \n",
    "import os \n",
    "import shutil\n",
    "import polychrom.polymerutils"
   ]
  },
  {
   "cell_type": "markdown",
   "metadata": {},
   "source": [
    "### Loading utils and forces from a reporter \n"
   ]
  },
  {
   "cell_type": "code",
   "execution_count": 3,
   "metadata": {},
   "outputs": [],
   "source": [
    "from polychrom.hdf5_format import hdf5Reporter, list_filenames, load_block, load_hdf5_file"
   ]
  },
  {
   "cell_type": "code",
   "execution_count": null,
   "metadata": {},
   "outputs": [],
   "source": []
  },
  {
   "cell_type": "markdown",
   "metadata": {},
   "source": [
    "### Making a simulation and passing a reporter "
   ]
  },
  {
   "cell_type": "code",
   "execution_count": 4,
   "metadata": {},
   "outputs": [
    {
     "name": "stdout",
     "output_type": "stream",
     "text": [
      "rm: cannot remove 'test/*': No such file or directory\r\n"
     ]
    },
    {
     "name": "stderr",
     "output_type": "stream",
     "text": [
      "INFO:root:adding force HarmonicBonds 0\n",
      "INFO:root:adding force Angle 1\n",
      "INFO:root:adding force PolynomialRepulsive 2\n"
     ]
    },
    {
     "name": "stdout",
     "output_type": "stream",
     "text": [
      "Exclude neighbouring chain particles from PolynomialRepulsive\n",
      "Number of exceptions: 9999\n"
     ]
    },
    {
     "name": "stderr",
     "output_type": "stream",
     "text": [
      "INFO:root:Particles loaded. Potential energy is 0.050224\n",
      "INFO:root:block    1 pos[1]=[13.9 13.7 14.0] dr=0.21 t=0.9ps kin=8.39 pot=4.17 Rg=10.951 dt=23.8fs dx=15.38pm \n",
      "INFO:root:block    2 pos[1]=[13.9 13.6 13.9] dr=0.17 t=1.2ps kin=4.03 pot=9.08 Rg=10.951 dt=20.4fs dx=9.15pm \n",
      "INFO:root:block    3 pos[1]=[13.8 13.6 13.9] dr=0.09 t=1.4ps kin=7.83 pot=5.32 Rg=10.952 dt=24.2fs dx=15.10pm \n",
      "INFO:root:block    4 pos[1]=[13.8 13.6 13.9] dr=0.14 t=1.6ps kin=6.62 pot=6.53 Rg=10.956 dt=22.1fs dx=12.72pm \n",
      "INFO:root:block    5 pos[1]=[13.8 13.5 13.9] dr=0.11 t=1.8ps kin=6.87 pot=6.26 Rg=10.961 dt=21.8fs dx=12.78pm \n",
      "/home/magus/libs_tmp/polychrom/polychrom/hdf5_format.py:36: UserWarning: Could not convert record spam\n",
      "  warnings.warn(f\"Could not convert record {name}\")\n",
      "INFO:root:block    6 pos[1]=[13.9 13.5 13.9] dr=0.12 t=2.0ps kin=7.04 pot=6.07 Rg=10.965 dt=21.8fs dx=12.93pm \n",
      "INFO:root:block    7 pos[1]=[13.7 13.5 13.9] dr=0.12 t=2.2ps kin=7.06 pot=6.02 Rg=10.970 dt=21.8fs dx=12.96pm \n"
     ]
    },
    {
     "name": "stdout",
     "output_type": "stream",
     "text": [
      "blocks_0-4.h5\n"
     ]
    },
    {
     "name": "stderr",
     "output_type": "stream",
     "text": [
      "INFO:root:block    8 pos[1]=[13.6 13.5 13.9] dr=0.12 t=2.5ps kin=7.48 pot=5.59 Rg=10.975 dt=21.8fs dx=13.33pm \n",
      "INFO:root:block    9 pos[1]=[13.7 13.6 13.9] dr=0.13 t=2.7ps kin=6.84 pot=6.20 Rg=10.981 dt=21.8fs dx=12.75pm \n",
      "INFO:root:block   10 pos[1]=[13.9 13.6 13.9] dr=0.12 t=2.9ps kin=7.40 pot=5.62 Rg=10.988 dt=21.8fs dx=13.26pm \n",
      "INFO:root:block   11 pos[1]=[13.8 13.7 13.9] dr=0.13 t=3.1ps kin=6.99 pot=6.00 Rg=10.996 dt=21.8fs dx=12.89pm \n",
      "INFO:root:block   12 pos[1]=[13.6 13.7 13.8] dr=0.12 t=3.3ps kin=7.24 pot=5.73 Rg=11.004 dt=21.8fs dx=13.12pm \n"
     ]
    },
    {
     "name": "stdout",
     "output_type": "stream",
     "text": [
      "blocks_5-9.h5\n"
     ]
    },
    {
     "name": "stderr",
     "output_type": "stream",
     "text": [
      "INFO:root:block   13 pos[1]=[13.6 13.9 13.8] dr=0.12 t=3.6ps kin=7.08 pot=5.86 Rg=11.012 dt=21.8fs dx=12.97pm \n",
      "INFO:root:block   14 pos[1]=[13.7 14.1 13.8] dr=0.13 t=3.8ps kin=7.27 pot=5.64 Rg=11.021 dt=21.8fs dx=13.15pm \n",
      "INFO:root:block   15 pos[1]=[13.8 14.2 13.8] dr=0.12 t=4.0ps kin=7.10 pot=5.79 Rg=11.031 dt=21.8fs dx=12.99pm \n",
      "INFO:root:block   16 pos[1]=[13.6 14.1 13.8] dr=0.13 t=4.2ps kin=7.22 pot=5.64 Rg=11.041 dt=21.8fs dx=13.10pm \n",
      "INFO:root:block   17 pos[1]=[13.5 14.1 13.7] dr=0.13 t=4.4ps kin=7.19 pot=5.65 Rg=11.052 dt=21.8fs dx=13.07pm \n"
     ]
    },
    {
     "name": "stdout",
     "output_type": "stream",
     "text": [
      "blocks_10-14.h5\n"
     ]
    },
    {
     "name": "stderr",
     "output_type": "stream",
     "text": [
      "INFO:root:block   18 pos[1]=[13.5 14.3 13.6] dr=0.13 t=4.6ps kin=7.23 pot=5.59 Rg=11.064 dt=21.8fs dx=13.11pm \n",
      "INFO:root:block   19 pos[1]=[13.5 14.5 13.5] dr=0.13 t=4.9ps kin=7.12 pot=5.67 Rg=11.076 dt=21.8fs dx=13.01pm \n"
     ]
    },
    {
     "name": "stdout",
     "output_type": "stream",
     "text": [
      "blocks_15-18.h5\n",
      "total 6052\r\n",
      "drwxrwxr-x 2 magus magus    4096 Aug 22 12:38 .\r\n",
      "drwxrwxr-x 4 magus magus    4096 Aug 22 12:37 ..\r\n",
      "-rw-rw-r-- 1 magus magus 1615688 Aug 22 12:38 applied_forces_0.hdf5\r\n",
      "-rw-rw-r-- 1 magus magus 1150677 Aug 22 12:38 blocks_0-4.h5\r\n",
      "-rw-rw-r-- 1 magus magus 1153017 Aug 22 12:38 blocks_10-14.h5\r\n",
      "-rw-rw-r-- 1 magus magus  922721 Aug 22 12:38 blocks_15-18.h5\r\n",
      "-rw-rw-r-- 1 magus magus 1152461 Aug 22 12:38 blocks_5-9.h5\r\n",
      "-rw-rw-r-- 1 magus magus    6144 Aug 22 12:38 initArgs_0.hdf5\r\n",
      "-rw-rw-r-- 1 magus magus  175219 Aug 22 12:38 starting_conformation_0.hdf5\r\n"
     ]
    }
   ],
   "source": [
    "%rm  test/*\n",
    "data = polychrom.starting_conformations.grow_cubic(10000,30)\n",
    "\n",
    "\"\"\"\n",
    "Here we created a hdf5Reporter attached to a foler test, and we are saving 5 blocks per file \n",
    "(you should probalby use 50 here or 100. 5 is just for a showcase)\n",
    "\"\"\"\n",
    "reporter = hdf5Reporter(folder=\"test\", max_data_length=5)\n",
    "\n",
    "\n",
    "\"\"\"\n",
    "Passing a reporter to the simulation object - many reporters are possible, and more will be added in a future\n",
    "\"\"\"\n",
    "sim = Simulation(N=10000, error_tol=0.001, collision_rate=0.01, integrator =\"variableLangevin\", platform=\"CPU\", \n",
    "                reporters=[reporter])\n",
    "sim.setData(data)\n",
    "sim.addForce(polychrom.forcekits.polymerChains(sim))\n",
    "sim._applyForces()\n",
    "sim.addForce(polychrom.forces.sphericalConfinement(sim, density=0.1))\n",
    "for i in range(19):\n",
    "    sim.doBlock(10, saveExtras={\"spam\":[{},{}]})\n",
    "\n",
    "\"\"\"\n",
    "Here we are not forgetting to dump the last set of blocks that the reporter has. \n",
    "We have to do it at the end of every simulation. \n",
    "\n",
    "I tried adding it to the destructor to make it automatic,\n",
    "but some weird interactions with garbage collection made it not very useable. \n",
    "\"\"\"\n",
    "reporter.dump_data()\n",
    "\n",
    "\n",
    "\"Just doing a list of files at the end\"\n",
    "!ls -la test"
   ]
  },
  {
   "cell_type": "code",
   "execution_count": 5,
   "metadata": {},
   "outputs": [
    {
     "data": {
      "text/plain": [
       "['test/blocks_0-4.h5::0',\n",
       " 'test/blocks_0-4.h5::1',\n",
       " 'test/blocks_0-4.h5::2',\n",
       " 'test/blocks_0-4.h5::3',\n",
       " 'test/blocks_0-4.h5::4',\n",
       " 'test/blocks_5-9.h5::5',\n",
       " 'test/blocks_5-9.h5::6',\n",
       " 'test/blocks_5-9.h5::7',\n",
       " 'test/blocks_5-9.h5::8',\n",
       " 'test/blocks_5-9.h5::9',\n",
       " 'test/blocks_10-14.h5::10',\n",
       " 'test/blocks_10-14.h5::11',\n",
       " 'test/blocks_10-14.h5::12',\n",
       " 'test/blocks_10-14.h5::13',\n",
       " 'test/blocks_10-14.h5::14',\n",
       " 'test/blocks_15-18.h5::15',\n",
       " 'test/blocks_15-18.h5::16',\n",
       " 'test/blocks_15-18.h5::17',\n",
       " 'test/blocks_15-18.h5::18']"
      ]
     },
     "execution_count": 5,
     "metadata": {},
     "output_type": "execute_result"
    }
   ],
   "source": [
    "files = list_filenames(\"test\")\n",
    "files   #  these are the paths for individual blocks"
   ]
  },
  {
   "cell_type": "code",
   "execution_count": 6,
   "metadata": {},
   "outputs": [
    {
     "data": {
      "text/plain": [
       "{'pos': array([[13.92293265, 13.71007105, 13.95973522],\n",
       "        [12.9452834 , 13.89145657, 13.86133323],\n",
       "        [13.11812076, 13.08613611, 14.03241599],\n",
       "        ...,\n",
       "        [14.13573444, 11.13731258, 14.23379963],\n",
       "        [13.98083813, 12.01625943, 13.99015853],\n",
       "        [14.02633324, 12.94941007, 13.90126466]]),\n",
       " 'block': 1,\n",
       " 'kineticEnergy': 8.390022275877323,\n",
       " 'potentialEnergy': 4.1713218096788856,\n",
       " 'time': 0.8870722680620542}"
      ]
     },
     "execution_count": 6,
     "metadata": {},
     "output_type": "execute_result"
    }
   ],
   "source": [
    "\"\"\"\n",
    "Loading the entire file, with position and other information\n",
    "for that, use polychrom.hdf5_format.load_block\n",
    "\n",
    "\"\"\"\n",
    "load_block(files[0])"
   ]
  },
  {
   "cell_type": "code",
   "execution_count": 7,
   "metadata": {},
   "outputs": [
    {
     "data": {
      "text/plain": [
       "array([[13.92293265, 13.71007105, 13.95973522],\n",
       "       [12.9452834 , 13.89145657, 13.86133323],\n",
       "       [13.11812076, 13.08613611, 14.03241599],\n",
       "       ...,\n",
       "       [14.13573444, 11.13731258, 14.23379963],\n",
       "       [13.98083813, 12.01625943, 13.99015853],\n",
       "       [14.02633324, 12.94941007, 13.90126466]])"
      ]
     },
     "execution_count": 7,
     "metadata": {},
     "output_type": "execute_result"
    }
   ],
   "source": [
    "\"\"\"\n",
    "It is backwards compatible with polymerutils.load as well, and it gives you just the XYZ\n",
    "\"\"\"\n",
    "polychrom.polymerutils.load(files[0])"
   ]
  },
  {
   "cell_type": "code",
   "execution_count": null,
   "metadata": {},
   "outputs": [],
   "source": []
  },
  {
   "cell_type": "code",
   "execution_count": null,
   "metadata": {},
   "outputs": [],
   "source": []
  }
 ],
 "metadata": {
  "kernelspec": {
   "display_name": "Python 3",
   "language": "python",
   "name": "python3"
  },
  "language_info": {
   "codemirror_mode": {
    "name": "ipython",
    "version": 3
   },
   "file_extension": ".py",
   "mimetype": "text/x-python",
   "name": "python",
   "nbconvert_exporter": "python",
   "pygments_lexer": "ipython3",
   "version": "3.7.4"
  }
 },
 "nbformat": 4,
 "nbformat_minor": 2
}
