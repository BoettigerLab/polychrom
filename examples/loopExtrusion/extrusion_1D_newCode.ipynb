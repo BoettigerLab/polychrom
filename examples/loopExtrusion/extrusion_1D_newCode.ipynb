{
 "cells": [
  {
   "cell_type": "code",
   "execution_count": 3,
   "metadata": {},
   "outputs": [],
   "source": [
    "import pickle\n",
    "import os\n",
    "import time\n",
    "import numpy as np\n",
    "import os \n",
    "import shutil\n",
    "\n",
    "import pyximport; pyximport.install()\n",
    "from LEF_Dynamics import LEFTranslocatorDirectional\n",
    "\n",
    "import warnings\n",
    "import h5py \n",
    "import glob"
   ]
  },
  {
   "cell_type": "markdown",
   "metadata": {},
   "source": [
    "## Defining simulation parameters"
   ]
  },
  {
   "cell_type": "code",
   "execution_count": 7,
   "metadata": {},
   "outputs": [],
   "source": [
    "\n",
    "# -------defining parameters----------\n",
    "#  -- basic loop extrusion parameters\n",
    "SEPARATION = 200\n",
    "LIFETIME = 300\n",
    "N = 10000   # number of monomers\n",
    "smcStepsPerBlock = 1  # now doing 1 SMC step per block \n",
    "\n",
    "trajectoryLength=100000\n",
    "\n",
    "birthArray = np.zeros(N, dtype=np.double) + 0.1\n",
    "deathArray = np.zeros(N, dtype=np.double) + 1. / LIFETIME\n",
    "stallDeathArray = np.zeros(N, dtype=np.double) + 1 / LIFETIME\n",
    "pauseArray = np.zeros(N, dtype=np.double)\n",
    "\n",
    "stallList = [1000, 3000, 5000, 7000, 9000]\n",
    "stallLeftArray = np.zeros(N, dtype = np.double)\n",
    "stallRightARray = np.zeros(N, dtype = np.double)\n",
    "for i in stallList:\n",
    "    stallLeftArray[i] = 0.8\n",
    "    stallRightARray[i] = 0.8\n",
    "\n",
    "LEFNum = N // SEPARATION\n",
    "LEFTran = LEFTranslocatorDirectional(birthArray, deathArray, stallLeftArray, stallRightARray, pauseArray,\n",
    "                                     stallDeathArray, LEFNum)\n",
    "folder = \"trajectory\"\n",
    "if not os.path.exists(folder):\n",
    "    os.mkdir(folder)\n",
    "    \n",
    "with h5py.File(\"trajectory/LEFTrajectory.h5\", mode='w') as myfile:\n",
    "\n",
    "    dset = myfile.create_dataset(\"trajectory\", \n",
    "                                 shape=(trajectoryLength, LEFNum, 2), \n",
    "                                 dtype=np.int32, \n",
    "                                 compression=\"gzip\")\n",
    "    steps = 50 \n",
    "    bins = np.linspace(0, trajectoryLength, steps, dtype=int)\n",
    "    for st,end in zip(bins[:-1], bins[1:]):\n",
    "        cur = []\n",
    "        for i in range(st, end):\n",
    "            LEFTran.steps(1)\n",
    "            LEFs = LEFTran.getLEFs()\n",
    "            cur.append(np.array(LEFs).T)\n",
    "        cur = np.array(cur)\n",
    "        dset[st:end] = cur\n",
    "    myfile.attrs[\"N\"] = N\n",
    "    myfile.attrs[\"LEFNum\"] = LEFNum\n",
    "\n",
    "\n"
   ]
  },
  {
   "cell_type": "code",
   "execution_count": 8,
   "metadata": {},
   "outputs": [
    {
     "data": {
      "text/plain": [
       "array([[[9969, 9971],\n",
       "        [6563, 6565],\n",
       "        [2262, 2265],\n",
       "        ...,\n",
       "        [3704, 3707],\n",
       "        [2363, 2366],\n",
       "        [4974, 4977]],\n",
       "\n",
       "       [[9968, 9972],\n",
       "        [6562, 6566],\n",
       "        [2261, 2266],\n",
       "        ...,\n",
       "        [3703, 3708],\n",
       "        [2362, 2367],\n",
       "        [4973, 4978]],\n",
       "\n",
       "       [[9967, 9973],\n",
       "        [6562, 6567],\n",
       "        [2260, 2267],\n",
       "        ...,\n",
       "        [3702, 3709],\n",
       "        [2361, 2368],\n",
       "        [4972, 4979]],\n",
       "\n",
       "       ...,\n",
       "\n",
       "       [[7898, 7932],\n",
       "        [4903, 4984],\n",
       "        [1000, 2104],\n",
       "        ...,\n",
       "        [ 199,  465],\n",
       "        [  32,  197],\n",
       "        [4756, 4796]],\n",
       "\n",
       "       [[7898, 7933],\n",
       "        [4902, 4985],\n",
       "        [1000, 2104],\n",
       "        ...,\n",
       "        [ 199,  465],\n",
       "        [  31,  197],\n",
       "        [4756, 4796]],\n",
       "\n",
       "       [[7898, 7934],\n",
       "        [4901, 4986],\n",
       "        [1000, 2104],\n",
       "        ...,\n",
       "        [ 199,  465],\n",
       "        [  30,  197],\n",
       "        [4756, 4796]]], dtype=int32)"
      ]
     },
     "execution_count": 8,
     "metadata": {},
     "output_type": "execute_result"
    }
   ],
   "source": [
    "with h5py.File(\"trajectory/LEFTrajectory.h5\", mode='r') as myfile:\n",
    "\n",
    "    dset = myfile[\"trajectory\"][:]\n",
    "dset"
   ]
  },
  {
   "cell_type": "code",
   "execution_count": null,
   "metadata": {},
   "outputs": [],
   "source": []
  }
 ],
 "metadata": {
  "kernelspec": {
   "display_name": "Python 3",
   "language": "python",
   "name": "python3"
  },
  "language_info": {
   "codemirror_mode": {
    "name": "ipython",
    "version": 3
   },
   "file_extension": ".py",
   "mimetype": "text/x-python",
   "name": "python",
   "nbconvert_exporter": "python",
   "pygments_lexer": "ipython3",
   "version": "3.7.4"
  }
 },
 "nbformat": 4,
 "nbformat_minor": 2
}
