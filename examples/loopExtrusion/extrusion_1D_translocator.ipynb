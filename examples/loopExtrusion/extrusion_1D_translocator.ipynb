{
 "cells": [
  {
   "cell_type": "code",
   "execution_count": 2,
   "metadata": {},
   "outputs": [],
   "source": [
    "import pickle\n",
    "import os\n",
    "import time\n",
    "import numpy as np\n",
    "import os \n",
    "import shutil\n",
    "\n",
    "import pyximport; pyximport.install()\n",
    "from LEF_Dynamics import LEFTranslocatorDirectional\n",
    "\n",
    "import warnings\n",
    "import h5py \n",
    "import glob"
   ]
  },
  {
   "cell_type": "markdown",
   "metadata": {},
   "source": [
    "## Defining simulation parameters"
   ]
  },
  {
   "cell_type": "code",
   "execution_count": 3,
   "metadata": {},
   "outputs": [],
   "source": [
    "\n",
    "# -------defining parameters----------\n",
    "#  -- basic loop extrusion parameters\n",
    "SEPARATION = 200\n",
    "LIFETIME = 300\n",
    "N = 10000   # number of monomers\n",
    "smcStepsPerBlock = 1  # now doing 1 SMC step per block \n",
    "\n",
    "trajectoryLength=100000\n",
    "\n",
    "\n",
    "birthArray = np.zeros(N, dtype=np.double) + 0.1\n",
    "deathArray = np.zeros(N, dtype=np.double) + 1. / LIFETIME\n",
    "stallDeathArray = np.zeros(N, dtype=np.double) + 1 / LIFETIME\n",
    "pauseArray = np.zeros(N, dtype=np.double)\n",
    "\n",
    "stallList = [1000, 3000, 5000, 7000, 9000]\n",
    "stallLeftArray = np.zeros(N, dtype = np.double)\n",
    "stallRightARray = np.zeros(N, dtype = np.double)\n",
    "for i in stallList:\n",
    "    stallLeftArray[i] = 0.8\n",
    "    stallRightARray[i] = 0.8\n",
    "\n",
    "LEFNum = N // SEPARATION\n",
    "LEFTran = LEFTranslocatorDirectional(birthArray, deathArray, stallLeftArray, stallRightARray, pauseArray,\n",
    "                                     stallDeathArray, LEFNum)\n",
    "folder = \"trajectory\"\n",
    "if not os.path.exists(folder):\n",
    "    os.mkdir(folder)\n",
    "    \n",
    "with h5py.File(\"trajectory/LEFPositions.h5\", mode='w') as myfile:\n",
    "\n",
    "    dset = myfile.create_dataset(\"positions\", \n",
    "                                 shape=(trajectoryLength, LEFNum, 2), \n",
    "                                 dtype=np.int32, \n",
    "                                 compression=\"gzip\")\n",
    "    steps = 50 \n",
    "    bins = np.linspace(0, trajectoryLength, steps, dtype=int)\n",
    "    for st,end in zip(bins[:-1], bins[1:]):\n",
    "        cur = []\n",
    "        for i in range(st, end):\n",
    "            LEFTran.steps(1)\n",
    "            LEFs = LEFTran.getLEFs()\n",
    "            cur.append(np.array(LEFs).T)\n",
    "        cur = np.array(cur)\n",
    "        dset[st:end] = cur\n",
    "    myfile.attrs[\"N\"] = N\n",
    "    myfile.attrs[\"LEFNum\"] = LEFNum\n",
    "\n",
    "\n"
   ]
  },
  {
   "cell_type": "code",
   "execution_count": 5,
   "metadata": {},
   "outputs": [
    {
     "data": {
      "text/plain": [
       "array([[[ 242,  244],\n",
       "        [3896, 3898],\n",
       "        [4834, 4836],\n",
       "        ...,\n",
       "        [ 886,  888],\n",
       "        [3852, 3855],\n",
       "        [4511, 4513]],\n",
       "\n",
       "       [[ 241,  245],\n",
       "        [3895, 3899],\n",
       "        [4833, 4837],\n",
       "        ...,\n",
       "        [ 885,  889],\n",
       "        [3851, 3856],\n",
       "        [4510, 4514]],\n",
       "\n",
       "       [[ 240,  246],\n",
       "        [3894, 3900],\n",
       "        [4832, 4838],\n",
       "        ...,\n",
       "        [ 884,  890],\n",
       "        [3850, 3857],\n",
       "        [4509, 4515]],\n",
       "\n",
       "       ...,\n",
       "\n",
       "       [[5557, 5666],\n",
       "        [8102, 8314],\n",
       "        [1001, 1274],\n",
       "        ...,\n",
       "        [1408, 1761],\n",
       "        [2087, 2254],\n",
       "        [4594, 4797]],\n",
       "\n",
       "       [[5556, 5667],\n",
       "        [8102, 8314],\n",
       "        [1001, 1275],\n",
       "        ...,\n",
       "        [1408, 1761],\n",
       "        [2087, 2254],\n",
       "        [4594, 4797]],\n",
       "\n",
       "       [[5555, 5668],\n",
       "        [8102, 8314],\n",
       "        [1001, 1276],\n",
       "        ...,\n",
       "        [1408, 1761],\n",
       "        [2087, 2254],\n",
       "        [4594, 4797]]], dtype=int32)"
      ]
     },
     "execution_count": 5,
     "metadata": {},
     "output_type": "execute_result"
    }
   ],
   "source": [
    "with h5py.File(\"trajectory/LEFPositions.h5\", mode='r') as myfile:\n",
    "\n",
    "    dset = myfile[\"positions\"][:]\n",
    "dset"
   ]
  },
  {
   "cell_type": "code",
   "execution_count": null,
   "metadata": {},
   "outputs": [],
   "source": []
  }
 ],
 "metadata": {
  "kernelspec": {
   "display_name": "Python 3",
   "language": "python",
   "name": "python3"
  },
  "language_info": {
   "codemirror_mode": {
    "name": "ipython",
    "version": 3
   },
   "file_extension": ".py",
   "mimetype": "text/x-python",
   "name": "python",
   "nbconvert_exporter": "python",
   "pygments_lexer": "ipython3",
   "version": "3.7.4"
  }
 },
 "nbformat": 4,
 "nbformat_minor": 2
}
