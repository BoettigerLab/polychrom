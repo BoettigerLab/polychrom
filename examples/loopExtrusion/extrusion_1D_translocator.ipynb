{
 "cells": [
  {
   "cell_type": "code",
   "execution_count": 1,
   "metadata": {},
   "outputs": [
    {
     "name": "stderr",
     "output_type": "stream",
     "text": [
      "/home/magus/anaconda3/lib/python3.7/site-packages/Cython/Compiler/Main.py:369: FutureWarning: Cython directive 'language_level' not set, using 2 for now (Py2). This will change in a later release! File: /home/magus/libs_tmp/polychrom/examples/loopExtrusion/LEF_Dynamics.pyx\n",
      "  tree = Parsing.p_module(s, pxd, full_module_name)\n"
     ]
    }
   ],
   "source": [
    "import pickle\n",
    "import os\n",
    "import time\n",
    "import numpy as np\n",
    "import os \n",
    "import shutil\n",
    "\n",
    "import pyximport; pyximport.install()\n",
    "from LEF_Dynamics import LEFTranslocatorDirectional\n",
    "\n",
    "import warnings\n",
    "import h5py \n",
    "import glob"
   ]
  },
  {
   "cell_type": "markdown",
   "metadata": {},
   "source": [
    "## Defining simulation parameters"
   ]
  },
  {
   "cell_type": "code",
   "execution_count": 6,
   "metadata": {},
   "outputs": [],
   "source": [
    "\n",
    "# -------defining parameters----------\n",
    "#  -- basic loop extrusion parameters\n",
    "SEPARATION = 400\n",
    "LIFETIME = 200\n",
    "N1 = 4000   # number of monomers\n",
    "M = 10 \n",
    "N = N1 * M \n",
    "smcStepsPerBlock = 1  # now doing 1 SMC step per block \n",
    "\n",
    "trajectoryLength=100000\n",
    "\n",
    "\n",
    "birthArray = np.zeros(N1, dtype=np.double) + 0.1\n",
    "deathArray = np.zeros(N1, dtype=np.double) + 1. / LIFETIME\n",
    "stallDeathArray = np.zeros(N1, dtype=np.double) + 1 / LIFETIME\n",
    "pauseArray = np.zeros(N1, dtype=np.double)\n",
    "\n",
    "stallList = [500, 1500, 2500, 3500]\n",
    "stallLeftArray = np.zeros(N1, dtype = np.double)\n",
    "stallRightARray = np.zeros(N1, dtype = np.double)\n",
    "for i in stallList:\n",
    "    stallLeftArray[i] = 0.8\n",
    "    stallRightARray[i] = 0.8\n",
    "\n",
    "LEFNum = N // SEPARATION\n",
    "LEFTran = LEFTranslocatorDirectional(\n",
    "    np.tile(birthArray,M), \n",
    "    np.tile(deathArray,M),\n",
    "    np.tile(stallLeftArray,M),\n",
    "    np.tile(stallRightARray,M),\n",
    "    np.tile(pauseArray,M),\n",
    "    np.tile(stallDeathArray,M),\n",
    "    LEFNum)\n",
    "folder = \"trajectory\"\n",
    "if not os.path.exists(folder):\n",
    "    os.mkdir(folder)\n",
    "    \n",
    "with h5py.File(\"trajectory/LEFPositions.h5\", mode='w') as myfile:\n",
    "\n",
    "    dset = myfile.create_dataset(\"positions\", \n",
    "                                 shape=(trajectoryLength, LEFNum, 2), \n",
    "                                 dtype=np.int32, \n",
    "                                 compression=\"gzip\")\n",
    "    steps = 50 \n",
    "    bins = np.linspace(0, trajectoryLength, steps, dtype=int)\n",
    "    for st,end in zip(bins[:-1], bins[1:]):\n",
    "        cur = []\n",
    "        for i in range(st, end):\n",
    "            LEFTran.steps(1)\n",
    "            LEFs = LEFTran.getLEFs()\n",
    "            cur.append(np.array(LEFs).T)\n",
    "        cur = np.array(cur)\n",
    "        dset[st:end] = cur\n",
    "    myfile.attrs[\"N\"] = N\n",
    "    myfile.attrs[\"LEFNum\"] = LEFNum\n",
    "\n",
    "\n"
   ]
  },
  {
   "cell_type": "code",
   "execution_count": 7,
   "metadata": {},
   "outputs": [
    {
     "data": {
      "text/plain": [
       "array([[[37653, 37655],\n",
       "        [31866, 31868],\n",
       "        [22973, 22976],\n",
       "        ...,\n",
       "        [ 3177,  3180],\n",
       "        [31680, 31682],\n",
       "        [33374, 33376]],\n",
       "\n",
       "       [[37652, 37656],\n",
       "        [31865, 31869],\n",
       "        [22972, 22977],\n",
       "        ...,\n",
       "        [ 3176,  3181],\n",
       "        [31679, 31683],\n",
       "        [33373, 33377]],\n",
       "\n",
       "       [[37651, 37657],\n",
       "        [31864, 31870],\n",
       "        [22971, 22978],\n",
       "        ...,\n",
       "        [ 3175,  3182],\n",
       "        [31678, 31684],\n",
       "        [33372, 33378]],\n",
       "\n",
       "       ...,\n",
       "\n",
       "       [[37047, 37499],\n",
       "        [21501, 21814],\n",
       "        [ 9097,  9117],\n",
       "        ...,\n",
       "        [ 6747,  7053],\n",
       "        [ 4500,  4835],\n",
       "        [ 5016,  5233]],\n",
       "\n",
       "       [[37046, 37499],\n",
       "        [21500, 21815],\n",
       "        [ 9096,  9118],\n",
       "        ...,\n",
       "        [ 6746,  7054],\n",
       "        [ 4500,  4836],\n",
       "        [ 5016,  5233]],\n",
       "\n",
       "       [[37045, 37499],\n",
       "        [21500, 21816],\n",
       "        [ 9095,  9119],\n",
       "        ...,\n",
       "        [ 6745,  7055],\n",
       "        [ 4500,  4837],\n",
       "        [ 5016,  5233]]], dtype=int32)"
      ]
     },
     "execution_count": 7,
     "metadata": {},
     "output_type": "execute_result"
    }
   ],
   "source": [
    "with h5py.File(\"trajectory/LEFPositions.h5\", mode='r') as myfile:\n",
    "\n",
    "    dset = myfile[\"positions\"][:]\n",
    "dset"
   ]
  },
  {
   "cell_type": "code",
   "execution_count": 8,
   "metadata": {},
   "outputs": [
    {
     "data": {
      "text/plain": [
       "(100000, 100, 2)"
      ]
     },
     "execution_count": 8,
     "metadata": {},
     "output_type": "execute_result"
    }
   ],
   "source": [
    "dset.shape"
   ]
  },
  {
   "cell_type": "code",
   "execution_count": null,
   "metadata": {},
   "outputs": [],
   "source": []
  }
 ],
 "metadata": {
  "kernelspec": {
   "display_name": "Python 3",
   "language": "python",
   "name": "python3"
  },
  "language_info": {
   "codemirror_mode": {
    "name": "ipython",
    "version": 3
   },
   "file_extension": ".py",
   "mimetype": "text/x-python",
   "name": "python",
   "nbconvert_exporter": "python",
   "pygments_lexer": "ipython3",
   "version": "3.7.3"
  }
 },
 "nbformat": 4,
 "nbformat_minor": 2
}
