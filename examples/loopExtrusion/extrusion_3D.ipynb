{
 "cells": [
  {
   "cell_type": "code",
   "execution_count": 1,
   "metadata": {},
   "outputs": [],
   "source": [
    "import pickle\n",
    "import os\n",
    "import time\n",
    "import numpy as np\n",
    "import polychrom\n",
    "\n",
    "from polychrom import polymerutils\n",
    "from polychrom import forces\n",
    "from polychrom import forcekits\n",
    "from polychrom.simulation import Simulation\n",
    "from polychrom.starting_conformations import grow_cubic\n",
    "from polychrom.hdf5_format import HDF5Reporter, list_URIs, load_URI, load_hdf5_file\n",
    "\n",
    "import simtk.openmm \n",
    "import os \n",
    "import shutil\n",
    "\n",
    "\n",
    "import warnings\n",
    "import h5py \n",
    "import glob"
   ]
  },
  {
   "cell_type": "markdown",
   "metadata": {},
   "source": [
    "## Defining simulation parameters"
   ]
  },
  {
   "cell_type": "code",
   "execution_count": 2,
   "metadata": {},
   "outputs": [],
   "source": [
    "# -------defining parameters----------\n",
    "#  -- basic loop extrusion parameters\n",
    "\n",
    "folder = \"trajectory\"\n",
    "\n",
    "myfile = h5py.File(\"trajectory/LEFPositions.h5\", mode='r')\n",
    "\n",
    "N = myfile.attrs[\"N\"]\n",
    "LEFNum = myfile.attrs[\"LEFNum\"]\n",
    "LEFpositions = myfile[\"positions\"]\n",
    "\n",
    "Nframes = LEFpositions.shape[0]\n",
    "\n",
    "    \n",
    "steps = 750   # MD steps per step of cohesin\n",
    "stiff = 1\n",
    "dens = 0.1\n",
    "box = (N / dens) ** 0.33  # density = 0.1.\n",
    "data = grow_cubic(N, int(box) - 2)  # creates a compact conformation \n",
    "block = 0  # starting block \n",
    "\n",
    "# new parameters because some things changed \n",
    "saveEveryBlocks = 10   # save every 10 blocks (saving every block is now too much almost)\n",
    "restartSimulationEveryBlocks = 100\n",
    "\n",
    "# parameters for smc bonds\n",
    "smcBondWiggleDist = 0.2\n",
    "smcBondDist = 0.5\n",
    "\n",
    "# assertions for easy managing code below \n",
    "assert (Nframes % restartSimulationEveryBlocks) == 0 \n",
    "assert (restartSimulationEveryBlocks % saveEveryBlocks) == 0\n",
    "\n",
    "savesPerSim = restartSimulationEveryBlocks // saveEveryBlocks\n",
    "simInitsTotal  = (Nframes) // restartSimulationEveryBlocks"
   ]
  },
  {
   "cell_type": "markdown",
   "metadata": {},
   "source": [
    "## Bond updating functions (for increased speed)"
   ]
  },
  {
   "cell_type": "code",
   "execution_count": 3,
   "metadata": {},
   "outputs": [],
   "source": [
    "class bondUpdater(object):\n",
    "\n",
    "    def __init__(self, LEFpositions):\n",
    "        \"\"\"\n",
    "        :param smcTransObject: smc translocator object to work with\n",
    "        \"\"\"\n",
    "        self.LEFpositions = LEFpositions\n",
    "        self.curtime  = 0\n",
    "        self.allBonds = []\n",
    "\n",
    "    def setParams(self, activeParamDict, inactiveParamDict):\n",
    "        \"\"\"\n",
    "        A method to set parameters for bonds.\n",
    "        It is a separate method because you may want to have a Simulation object already existing\n",
    "\n",
    "        :param activeParamDict: a dict (argument:value) of addBond arguments for active bonds\n",
    "        :param inactiveParamDict:  a dict (argument:value) of addBond arguments for inactive bonds\n",
    "\n",
    "        \"\"\"\n",
    "        self.activeParamDict = activeParamDict\n",
    "        self.inactiveParamDict = inactiveParamDict\n",
    "\n",
    "\n",
    "    def setup(self, bondForce,  blocks=100, smcStepsPerBlock=1):\n",
    "        \"\"\"\n",
    "        A method that milks smcTranslocator object\n",
    "        and creates a set of unique bonds, etc.\n",
    "\n",
    "        :param bondForce: a bondforce object (new after simulation restart!)\n",
    "        :param blocks: number of blocks to precalculate\n",
    "        :param smcStepsPerBlock: number of smcTranslocator steps per block\n",
    "        :return:\n",
    "        \"\"\"\n",
    "\n",
    "\n",
    "        if len(self.allBonds) != 0:\n",
    "            raise ValueError(\"Not all bonds were used; {0} sets left\".format(len(self.allBonds)))\n",
    "\n",
    "        self.bondForce = bondForce\n",
    "\n",
    "        #precalculating all bonds\n",
    "        allBonds = []\n",
    "        \n",
    "        loaded_positions  = self.LEFpositions[self.curtime : self.curtime+blocks]\n",
    "        allBonds = [[(int(loaded_positions[i, j, 0]), int(loaded_positions[i, j, 1])) \n",
    "                        for j in range(loaded_positions.shape[1])] for i in range(blocks)]\n",
    "\n",
    "        self.allBonds = allBonds\n",
    "        self.uniqueBonds = list(set(sum(allBonds, [])))\n",
    "\n",
    "        #adding forces and getting bond indices\n",
    "        self.bondInds = []\n",
    "        self.curBonds = allBonds.pop(0)\n",
    "\n",
    "        for bond in self.uniqueBonds:\n",
    "            paramset = self.activeParamDict if (bond in self.curBonds) else self.inactiveParamDict\n",
    "            ind = bondForce.addBond(bond[0], bond[1], **paramset) # changed from addBond\n",
    "            self.bondInds.append(ind)\n",
    "        self.bondToInd = {i:j for i,j in zip(self.uniqueBonds, self.bondInds)}\n",
    "        \n",
    "        self.curtime += blocks \n",
    "        \n",
    "        return self.curBonds,[]\n",
    "\n",
    "\n",
    "    def step(self, context, verbose=False):\n",
    "        \"\"\"\n",
    "        Update the bonds to the next step.\n",
    "        It sets bonds for you automatically!\n",
    "        :param context:  context\n",
    "        :return: (current bonds, previous step bonds); just for reference\n",
    "        \"\"\"\n",
    "        if len(self.allBonds) == 0:\n",
    "            raise ValueError(\"No bonds left to run; you should restart simulation and run setup  again\")\n",
    "\n",
    "        pastBonds = self.curBonds\n",
    "        self.curBonds = self.allBonds.pop(0)  # getting current bonds\n",
    "        bondsRemove = [i for i in pastBonds if i not in self.curBonds]\n",
    "        bondsAdd = [i for i in self.curBonds if i not in pastBonds]\n",
    "        bondsStay = [i for i in pastBonds if i in self.curBonds]\n",
    "        if verbose:\n",
    "            print(\"{0} bonds stay, {1} new bonds, {2} bonds removed\".format(len(bondsStay),\n",
    "                                                                            len(bondsAdd), len(bondsRemove)))\n",
    "        bondsToChange = bondsAdd + bondsRemove\n",
    "        bondsIsAdd = [True] * len(bondsAdd) + [False] * len(bondsRemove)\n",
    "        for bond, isAdd in zip(bondsToChange, bondsIsAdd):\n",
    "            ind = self.bondToInd[bond]\n",
    "            paramset = self.activeParamDict if isAdd else self.inactiveParamDict\n",
    "            self.bondForce.setBondParameters(ind, bond[0], bond[1], **paramset)  # actually updating bonds\n",
    "        self.bondForce.updateParametersInContext(context)  # now run this to update things in the context\n",
    "        return self.curBonds, pastBonds"
   ]
  },
  {
   "cell_type": "markdown",
   "metadata": {},
   "source": [
    "## Run simulation "
   ]
  },
  {
   "cell_type": "code",
   "execution_count": null,
   "metadata": {},
   "outputs": [
    {
     "name": "stderr",
     "output_type": "stream",
     "text": [
      "INFO:root:Performing local energy minimization\n",
      "INFO:root:adding force harmonic_bonds 0\n",
      "INFO:root:adding force angle 1\n",
      "INFO:root:Using periodic boundary conditions\n",
      "INFO:root:adding force polynomial_repulsive 2\n"
     ]
    },
    {
     "name": "stdout",
     "output_type": "stream",
     "text": [
      "Exclude neighbouring chain particles from polynomial_repulsive\n",
      "Number of exceptions: 39999\n"
     ]
    },
    {
     "name": "stderr",
     "output_type": "stream",
     "text": [
      "INFO:root:Particles loaded. Potential energy is 1.906709\n",
      "INFO:root:before minimization eK=1.4983582620536646, eP=1.906709104963353, time=0.0 ps\n",
      "INFO:root:Particles loaded. Potential energy is 0.145231\n",
      "INFO:root:after minimization eK=1.4983582620536646, eP=0.11359333253342027, time=0.0 ps\n",
      "INFO:root:block    0 pos[1]=[44.3 6.2 20.3] dr=13.87 t=1319.9ps kin=1.50 pot=1.33 Rg=33.035 dt=176.1fs dx=48.12pm \n",
      "INFO:root:block    1 pos[1]=[37.7 8.6 19.8] dr=9.00 t=2640.9ps kin=1.51 pot=1.32 Rg=34.542 dt=176.1fs dx=48.32pm \n",
      "INFO:root:block    2 pos[1]=[34.1 14.9 16.5] dr=8.83 t=3961.8ps kin=1.49 pot=1.31 Rg=34.879 dt=176.1fs dx=48.09pm \n",
      "INFO:root:block    3 pos[1]=[43.8 17.2 13.8] dr=8.55 t=5282.8ps kin=1.49 pot=1.32 Rg=35.051 dt=176.1fs dx=48.00pm \n",
      "INFO:root:block    4 pos[1]=[57.9 16.3 11.5] dr=8.64 t=6603.8ps kin=1.50 pot=1.31 Rg=35.072 dt=176.1fs dx=48.17pm \n",
      "INFO:root:block    5 pos[1]=[46.4 20.1 14.9] dr=8.85 t=7924.8ps kin=1.49 pot=1.31 Rg=35.153 dt=176.1fs dx=48.07pm \n",
      "INFO:root:block    6 pos[1]=[38.3 16.0 16.9] dr=8.80 t=9245.8ps kin=1.51 pot=1.31 Rg=35.250 dt=176.1fs dx=48.32pm \n",
      "INFO:root:block    7 pos[1]=[37.0 18.4 13.1] dr=8.72 t=10566.8ps kin=1.50 pot=1.31 Rg=35.264 dt=176.1fs dx=48.19pm \n",
      "INFO:root:block    8 pos[1]=[38.9 18.7 12.3] dr=8.58 t=11887.7ps kin=1.50 pot=1.32 Rg=35.387 dt=176.1fs dx=48.13pm \n",
      "INFO:root:block    9 pos[1]=[33.9 25.6 7.9] dr=8.58 t=13208.7ps kin=1.50 pot=1.31 Rg=35.350 dt=176.1fs dx=48.18pm \n",
      "INFO:root:adding force harmonic_bonds 0\n",
      "INFO:root:adding force angle 1\n",
      "INFO:root:Using periodic boundary conditions\n",
      "INFO:root:adding force polynomial_repulsive 2\n"
     ]
    },
    {
     "name": "stdout",
     "output_type": "stream",
     "text": [
      "Exclude neighbouring chain particles from polynomial_repulsive\n",
      "Number of exceptions: 39999\n"
     ]
    },
    {
     "name": "stderr",
     "output_type": "stream",
     "text": [
      "INFO:root:Particles loaded. Potential energy is 1.344416\n",
      "INFO:root:block    0 pos[1]=[36.3 21.2 14.1] dr=8.63 t=1277.1ps kin=1.50 pot=1.32 Rg=35.271 dt=170.3fs dx=46.55pm \n",
      "INFO:root:block    1 pos[1]=[36.2 21.8 14.1] dr=8.66 t=2554.2ps kin=1.52 pot=1.32 Rg=35.378 dt=170.3fs dx=46.95pm \n",
      "INFO:root:block    2 pos[1]=[35.2 22.4 9.2] dr=8.76 t=3831.3ps kin=1.49 pot=1.31 Rg=35.191 dt=170.3fs dx=46.50pm \n",
      "INFO:root:block    3 pos[1]=[38.2 21.1 29.7] dr=8.46 t=5108.4ps kin=1.50 pot=1.31 Rg=35.289 dt=170.3fs dx=46.54pm \n",
      "INFO:root:block    4 pos[1]=[33.9 25.5 23.2] dr=8.51 t=6385.5ps kin=1.51 pot=1.31 Rg=35.272 dt=170.3fs dx=46.77pm \n",
      "INFO:root:block    5 pos[1]=[24.0 38.0 18.7] dr=8.53 t=7662.6ps kin=1.50 pot=1.31 Rg=35.223 dt=170.3fs dx=46.55pm \n",
      "INFO:root:block    6 pos[1]=[32.6 39.1 6.5] dr=8.59 t=8939.7ps kin=1.51 pot=1.31 Rg=35.135 dt=170.3fs dx=46.70pm \n",
      "INFO:root:block    7 pos[1]=[34.2 37.5 14.3] dr=8.63 t=10216.8ps kin=1.50 pot=1.32 Rg=35.122 dt=170.3fs dx=46.54pm \n",
      "INFO:root:block    8 pos[1]=[29.2 30.4 29.1] dr=8.68 t=11493.9ps kin=1.49 pot=1.32 Rg=35.133 dt=170.3fs dx=46.49pm \n",
      "INFO:root:block    9 pos[1]=[32.5 28.1 26.6] dr=8.46 t=12771.0ps kin=1.50 pot=1.31 Rg=35.207 dt=170.3fs dx=46.52pm \n",
      "INFO:root:adding force harmonic_bonds 0\n",
      "INFO:root:adding force angle 1\n",
      "INFO:root:Using periodic boundary conditions\n",
      "INFO:root:adding force polynomial_repulsive 2\n"
     ]
    },
    {
     "name": "stdout",
     "output_type": "stream",
     "text": [
      "Exclude neighbouring chain particles from polynomial_repulsive\n",
      "Number of exceptions: 39999\n"
     ]
    },
    {
     "name": "stderr",
     "output_type": "stream",
     "text": [
      "INFO:root:Particles loaded. Potential energy is 1.347891\n",
      "INFO:root:block    0 pos[1]=[41.5 24.7 23.1] dr=8.47 t=1277.8ps kin=1.51 pot=1.31 Rg=35.332 dt=170.4fs dx=46.73pm \n",
      "INFO:root:block    1 pos[1]=[24.4 25.3 29.1] dr=8.53 t=2555.6ps kin=1.50 pot=1.31 Rg=35.310 dt=170.4fs dx=46.64pm \n",
      "INFO:root:block    2 pos[1]=[23.2 24.2 29.8] dr=8.60 t=3833.4ps kin=1.50 pot=1.32 Rg=35.062 dt=170.4fs dx=46.62pm \n",
      "INFO:root:block    3 pos[1]=[15.9 7.6 26.0] dr=8.55 t=5111.2ps kin=1.49 pot=1.31 Rg=35.333 dt=170.4fs dx=46.48pm \n",
      "INFO:root:block    4 pos[1]=[21.4 20.4 19.4] dr=8.62 t=6389.0ps kin=1.49 pot=1.32 Rg=35.468 dt=170.4fs dx=46.47pm \n",
      "INFO:root:block    5 pos[1]=[15.0 28.1 21.6] dr=8.69 t=7666.8ps kin=1.50 pot=1.31 Rg=35.192 dt=170.4fs dx=46.62pm \n",
      "INFO:root:block    6 pos[1]=[14.8 23.1 33.6] dr=8.62 t=8944.6ps kin=1.50 pot=1.31 Rg=35.424 dt=170.4fs dx=46.58pm \n",
      "INFO:root:block    7 pos[1]=[10.5 30.3 39.0] dr=8.52 t=10222.4ps kin=1.50 pot=1.32 Rg=35.252 dt=170.4fs dx=46.64pm \n",
      "INFO:root:block    8 pos[1]=[14.5 30.5 43.1] dr=8.59 t=11500.2ps kin=1.50 pot=1.31 Rg=35.255 dt=170.4fs dx=46.59pm \n",
      "INFO:root:block    9 pos[1]=[1.5 44.2 44.3] dr=8.61 t=12777.9ps kin=1.51 pot=1.30 Rg=35.168 dt=170.4fs dx=46.69pm \n",
      "INFO:root:adding force harmonic_bonds 0\n",
      "INFO:root:adding force angle 1\n",
      "INFO:root:Using periodic boundary conditions\n",
      "INFO:root:adding force polynomial_repulsive 2\n"
     ]
    },
    {
     "name": "stdout",
     "output_type": "stream",
     "text": [
      "Exclude neighbouring chain particles from polynomial_repulsive\n",
      "Number of exceptions: 39999\n"
     ]
    },
    {
     "name": "stderr",
     "output_type": "stream",
     "text": [
      "INFO:root:Particles loaded. Potential energy is 1.340886\n",
      "INFO:root:block    0 pos[1]=[-3.7 33.6 44.7] dr=8.68 t=1273.6ps kin=1.50 pot=1.31 Rg=35.248 dt=169.8fs dx=46.44pm \n",
      "INFO:root:block    1 pos[1]=[1.7 20.5 40.6] dr=8.52 t=2547.2ps kin=1.51 pot=1.31 Rg=35.145 dt=169.8fs dx=46.61pm \n",
      "INFO:root:block    2 pos[1]=[-0.6 23.7 37.1] dr=8.58 t=3820.8ps kin=1.50 pot=1.30 Rg=35.377 dt=169.8fs dx=46.46pm \n",
      "INFO:root:block    3 pos[1]=[-2.3 36.6 36.7] dr=8.69 t=5094.4ps kin=1.51 pot=1.31 Rg=35.430 dt=169.8fs dx=46.62pm \n",
      "INFO:root:block    4 pos[1]=[4.3 33.6 29.8] dr=8.61 t=6368.0ps kin=1.51 pot=1.30 Rg=35.179 dt=169.8fs dx=46.54pm \n",
      "INFO:root:block    5 pos[1]=[-2.0 39.0 36.2] dr=8.44 t=7641.6ps kin=1.50 pot=1.32 Rg=35.209 dt=169.8fs dx=46.39pm \n",
      "INFO:root:block    6 pos[1]=[4.2 35.8 40.8] dr=8.37 t=8915.2ps kin=1.51 pot=1.31 Rg=35.120 dt=169.8fs dx=46.65pm \n",
      "INFO:root:block    7 pos[1]=[3.3 43.3 34.1] dr=8.57 t=10188.8ps kin=1.50 pot=1.31 Rg=35.368 dt=169.8fs dx=46.44pm \n",
      "INFO:root:block    8 pos[1]=[8.4 37.5 39.2] dr=8.65 t=11462.4ps kin=1.51 pot=1.32 Rg=35.199 dt=169.8fs dx=46.61pm \n",
      "INFO:root:block    9 pos[1]=[11.2 28.6 35.4] dr=8.41 t=12736.0ps kin=1.51 pot=1.32 Rg=35.108 dt=169.8fs dx=46.59pm \n",
      "INFO:root:adding force harmonic_bonds 0\n",
      "INFO:root:adding force angle 1\n",
      "INFO:root:Using periodic boundary conditions\n",
      "INFO:root:adding force polynomial_repulsive 2\n"
     ]
    },
    {
     "name": "stdout",
     "output_type": "stream",
     "text": [
      "Exclude neighbouring chain particles from polynomial_repulsive\n",
      "Number of exceptions: 39999\n"
     ]
    },
    {
     "name": "stderr",
     "output_type": "stream",
     "text": [
      "INFO:root:Particles loaded. Potential energy is 1.354124\n",
      "INFO:root:block    0 pos[1]=[1.3 27.4 44.2] dr=8.61 t=1270.8ps kin=1.50 pot=1.30 Rg=35.243 dt=169.4fs dx=46.42pm \n",
      "INFO:root:block    1 pos[1]=[9.4 23.9 49.4] dr=8.66 t=2541.7ps kin=1.50 pot=1.31 Rg=35.197 dt=169.4fs dx=46.29pm \n",
      "INFO:root:block    2 pos[1]=[-1.4 27.6 32.7] dr=8.55 t=3812.5ps kin=1.50 pot=1.30 Rg=35.300 dt=169.4fs dx=46.42pm \n",
      "INFO:root:block    3 pos[1]=[14.4 23.9 37.0] dr=8.53 t=5083.3ps kin=1.50 pot=1.32 Rg=35.429 dt=169.4fs dx=46.32pm \n",
      "INFO:root:block    4 pos[1]=[22.4 29.1 29.9] dr=8.38 t=6354.1ps kin=1.49 pot=1.32 Rg=35.418 dt=169.4fs dx=46.27pm \n",
      "INFO:root:block    5 pos[1]=[31.3 20.0 37.2] dr=8.47 t=7624.9ps kin=1.50 pot=1.31 Rg=35.394 dt=169.4fs dx=46.38pm \n",
      "INFO:root:block    6 pos[1]=[17.9 18.1 40.4] dr=8.59 t=8895.7ps kin=1.50 pot=1.31 Rg=35.272 dt=169.4fs dx=46.35pm \n",
      "INFO:root:block    7 pos[1]=[22.2 24.5 51.1] dr=8.65 t=10166.5ps kin=1.50 pot=1.31 Rg=35.325 dt=169.4fs dx=46.35pm \n",
      "INFO:root:block    8 pos[1]=[19.2 19.5 56.3] dr=8.54 t=11437.4ps kin=1.50 pot=1.31 Rg=35.400 dt=169.4fs dx=46.41pm \n",
      "INFO:root:block    9 pos[1]=[18.9 18.7 55.3] dr=8.66 t=12708.2ps kin=1.50 pot=1.31 Rg=35.306 dt=169.4fs dx=46.39pm \n",
      "INFO:root:adding force harmonic_bonds 0\n",
      "INFO:root:adding force angle 1\n",
      "INFO:root:Using periodic boundary conditions\n",
      "INFO:root:adding force polynomial_repulsive 2\n"
     ]
    },
    {
     "name": "stdout",
     "output_type": "stream",
     "text": [
      "Exclude neighbouring chain particles from polynomial_repulsive\n",
      "Number of exceptions: 39999\n"
     ]
    },
    {
     "name": "stderr",
     "output_type": "stream",
     "text": [
      "INFO:root:Particles loaded. Potential energy is 1.341771\n",
      "INFO:root:block    0 pos[1]=[25.8 17.8 46.4] dr=8.48 t=1274.1ps kin=1.49 pot=1.32 Rg=35.369 dt=169.9fs dx=46.34pm \n",
      "INFO:root:block    1 pos[1]=[21.4 20.3 48.4] dr=8.36 t=2548.2ps kin=1.50 pot=1.31 Rg=35.281 dt=169.9fs dx=46.51pm \n",
      "INFO:root:block    2 pos[1]=[6.0 21.8 52.1] dr=8.58 t=3822.2ps kin=1.49 pot=1.31 Rg=35.405 dt=169.9fs dx=46.36pm \n",
      "INFO:root:block    3 pos[1]=[13.3 37.0 51.0] dr=8.39 t=5096.3ps kin=1.50 pot=1.30 Rg=35.337 dt=169.9fs dx=46.45pm \n",
      "INFO:root:block    4 pos[1]=[20.4 43.9 53.9] dr=8.62 t=6370.4ps kin=1.50 pot=1.30 Rg=35.276 dt=169.9fs dx=46.50pm \n",
      "INFO:root:block    5 pos[1]=[20.3 38.1 48.8] dr=8.60 t=7644.4ps kin=1.50 pot=1.32 Rg=35.208 dt=169.9fs dx=46.54pm \n",
      "INFO:root:block    6 pos[1]=[24.9 36.7 51.4] dr=8.44 t=8918.5ps kin=1.50 pot=1.31 Rg=35.369 dt=169.9fs dx=46.46pm \n",
      "INFO:root:block    7 pos[1]=[13.2 36.1 45.6] dr=8.50 t=10192.6ps kin=1.50 pot=1.31 Rg=35.390 dt=169.9fs dx=46.45pm \n",
      "INFO:root:block    8 pos[1]=[33.5 33.3 40.1] dr=8.42 t=11466.6ps kin=1.49 pot=1.31 Rg=35.333 dt=169.9fs dx=46.37pm \n",
      "INFO:root:block    9 pos[1]=[37.7 32.7 46.5] dr=8.56 t=12740.7ps kin=1.50 pot=1.31 Rg=35.266 dt=169.9fs dx=46.51pm \n",
      "INFO:root:adding force harmonic_bonds 0\n",
      "INFO:root:adding force angle 1\n",
      "INFO:root:Using periodic boundary conditions\n",
      "INFO:root:adding force polynomial_repulsive 2\n"
     ]
    },
    {
     "name": "stdout",
     "output_type": "stream",
     "text": [
      "Exclude neighbouring chain particles from polynomial_repulsive\n",
      "Number of exceptions: 39999\n"
     ]
    },
    {
     "name": "stderr",
     "output_type": "stream",
     "text": [
      "INFO:root:Particles loaded. Potential energy is 1.343253\n",
      "INFO:root:block    0 pos[1]=[36.7 27.3 33.8] dr=8.52 t=1273.6ps kin=1.50 pot=1.30 Rg=35.305 dt=169.8fs dx=46.48pm \n",
      "INFO:root:block    1 pos[1]=[35.2 31.5 29.1] dr=8.41 t=2547.2ps kin=1.50 pot=1.31 Rg=35.325 dt=169.8fs dx=46.38pm \n",
      "INFO:root:block    2 pos[1]=[35.4 29.5 32.3] dr=8.55 t=3820.8ps kin=1.50 pot=1.30 Rg=35.294 dt=169.8fs dx=46.39pm \n",
      "INFO:root:block    3 pos[1]=[38.6 26.4 49.4] dr=8.68 t=5094.4ps kin=1.49 pot=1.31 Rg=35.318 dt=169.8fs dx=46.35pm \n",
      "INFO:root:block    4 pos[1]=[38.8 37.2 51.1] dr=8.56 t=6368.0ps kin=1.51 pot=1.32 Rg=35.406 dt=169.8fs dx=46.54pm \n",
      "INFO:root:block    5 pos[1]=[41.2 29.6 39.4] dr=8.64 t=7641.6ps kin=1.51 pot=1.31 Rg=35.286 dt=169.8fs dx=46.54pm \n",
      "INFO:root:block    6 pos[1]=[38.3 24.9 22.4] dr=8.50 t=8915.2ps kin=1.50 pot=1.32 Rg=35.415 dt=169.8fs dx=46.46pm \n",
      "INFO:root:block    7 pos[1]=[33.6 28.4 26.0] dr=8.50 t=10188.8ps kin=1.51 pot=1.32 Rg=35.396 dt=169.8fs dx=46.54pm \n",
      "INFO:root:block    8 pos[1]=[35.7 27.6 15.1] dr=8.62 t=11462.4ps kin=1.50 pot=1.31 Rg=35.222 dt=169.8fs dx=46.50pm \n",
      "INFO:root:block    9 pos[1]=[31.4 27.1 14.8] dr=8.45 t=12736.0ps kin=1.48 pot=1.32 Rg=35.433 dt=169.8fs dx=46.16pm \n",
      "INFO:root:adding force harmonic_bonds 0\n",
      "INFO:root:adding force angle 1\n",
      "INFO:root:Using periodic boundary conditions\n",
      "INFO:root:adding force polynomial_repulsive 2\n"
     ]
    },
    {
     "name": "stdout",
     "output_type": "stream",
     "text": [
      "Exclude neighbouring chain particles from polynomial_repulsive\n",
      "Number of exceptions: 39999\n"
     ]
    },
    {
     "name": "stderr",
     "output_type": "stream",
     "text": [
      "INFO:root:Particles loaded. Potential energy is 1.350627\n",
      "INFO:root:block    0 pos[1]=[37.4 31.6 14.2] dr=8.76 t=1273.1ps kin=1.51 pot=1.31 Rg=35.202 dt=169.7fs dx=46.53pm \n",
      "INFO:root:block    1 pos[1]=[38.4 40.1 11.7] dr=8.48 t=2546.1ps kin=1.51 pot=1.31 Rg=35.330 dt=169.7fs dx=46.52pm \n",
      "INFO:root:block    2 pos[1]=[25.5 45.8 9.3] dr=8.66 t=3819.2ps kin=1.49 pot=1.32 Rg=35.324 dt=169.7fs dx=46.30pm \n",
      "INFO:root:block    3 pos[1]=[30.3 48.9 17.1] dr=8.53 t=5092.2ps kin=1.51 pot=1.30 Rg=35.151 dt=169.7fs dx=46.63pm \n",
      "INFO:root:block    4 pos[1]=[37.4 36.4 14.4] dr=8.30 t=6365.3ps kin=1.50 pot=1.32 Rg=35.203 dt=169.7fs dx=46.39pm \n",
      "INFO:root:block    5 pos[1]=[35.9 42.5 16.7] dr=8.40 t=7638.3ps kin=1.50 pot=1.31 Rg=35.082 dt=169.7fs dx=46.36pm \n",
      "INFO:root:block    6 pos[1]=[37.3 26.5 18.7] dr=8.57 t=8911.3ps kin=1.50 pot=1.31 Rg=35.153 dt=169.7fs dx=46.47pm \n",
      "INFO:root:block    7 pos[1]=[34.1 15.2 16.3] dr=8.62 t=10184.4ps kin=1.52 pot=1.31 Rg=35.254 dt=169.7fs dx=46.69pm \n",
      "INFO:root:block    8 pos[1]=[43.4 16.8 16.6] dr=8.65 t=11457.4ps kin=1.50 pot=1.30 Rg=35.214 dt=169.7fs dx=46.50pm \n",
      "INFO:root:block    9 pos[1]=[40.4 21.3 19.7] dr=8.60 t=12730.5ps kin=1.49 pot=1.32 Rg=35.278 dt=169.7fs dx=46.33pm \n",
      "INFO:root:adding force harmonic_bonds 0\n",
      "INFO:root:adding force angle 1\n",
      "INFO:root:Using periodic boundary conditions\n",
      "INFO:root:adding force polynomial_repulsive 2\n"
     ]
    },
    {
     "name": "stdout",
     "output_type": "stream",
     "text": [
      "Exclude neighbouring chain particles from polynomial_repulsive\n",
      "Number of exceptions: 39999\n"
     ]
    },
    {
     "name": "stderr",
     "output_type": "stream",
     "text": [
      "INFO:root:Particles loaded. Potential energy is 1.347809\n",
      "INFO:root:block    0 pos[1]=[30.0 19.1 13.9] dr=8.64 t=1278.4ps kin=1.51 pot=1.32 Rg=35.297 dt=170.5fs dx=46.73pm \n",
      "INFO:root:block    1 pos[1]=[29.6 28.9 14.5] dr=8.53 t=2556.8ps kin=1.50 pot=1.31 Rg=35.209 dt=170.5fs dx=46.61pm \n",
      "INFO:root:block    2 pos[1]=[31.7 27.0 18.5] dr=8.48 t=3835.2ps kin=1.49 pot=1.32 Rg=35.293 dt=170.5fs dx=46.51pm \n",
      "INFO:root:block    3 pos[1]=[36.0 19.8 12.0] dr=8.61 t=5113.6ps kin=1.50 pot=1.31 Rg=35.301 dt=170.5fs dx=46.57pm \n",
      "INFO:root:block    4 pos[1]=[40.9 32.4 16.6] dr=8.58 t=6392.0ps kin=1.50 pot=1.31 Rg=35.145 dt=170.5fs dx=46.66pm \n",
      "INFO:root:block    5 pos[1]=[43.7 28.3 1.5] dr=8.41 t=7670.5ps kin=1.50 pot=1.31 Rg=35.187 dt=170.5fs dx=46.65pm \n",
      "INFO:root:block    6 pos[1]=[40.7 30.8 6.4] dr=8.55 t=8948.9ps kin=1.50 pot=1.32 Rg=35.205 dt=170.5fs dx=46.69pm \n",
      "INFO:root:block    7 pos[1]=[44.6 34.9 8.0] dr=8.60 t=10227.3ps kin=1.51 pot=1.31 Rg=35.245 dt=170.5fs dx=46.74pm \n",
      "INFO:root:block    8 pos[1]=[38.1 24.2 8.1] dr=8.51 t=11505.7ps kin=1.50 pot=1.32 Rg=35.410 dt=170.5fs dx=46.62pm \n",
      "INFO:root:block    9 pos[1]=[34.9 17.6 0.5] dr=8.49 t=12784.1ps kin=1.50 pot=1.31 Rg=35.274 dt=170.5fs dx=46.64pm \n",
      "INFO:root:adding force harmonic_bonds 0\n",
      "INFO:root:adding force angle 1\n",
      "INFO:root:Using periodic boundary conditions\n",
      "INFO:root:adding force polynomial_repulsive 2\n"
     ]
    },
    {
     "name": "stdout",
     "output_type": "stream",
     "text": [
      "Exclude neighbouring chain particles from polynomial_repulsive\n",
      "Number of exceptions: 39999\n"
     ]
    },
    {
     "name": "stderr",
     "output_type": "stream",
     "text": [
      "INFO:root:Particles loaded. Potential energy is 1.355619\n",
      "INFO:root:block    0 pos[1]=[42.8 21.2 -1.7] dr=8.72 t=1274.0ps kin=1.50 pot=1.31 Rg=35.219 dt=169.9fs dx=46.43pm \n",
      "INFO:root:block    1 pos[1]=[36.9 22.6 3.2] dr=8.59 t=2547.9ps kin=1.51 pot=1.31 Rg=35.260 dt=169.9fs dx=46.60pm \n",
      "INFO:root:block    2 pos[1]=[44.0 17.5 1.8] dr=8.54 t=3821.8ps kin=1.51 pot=1.30 Rg=35.153 dt=169.9fs dx=46.56pm \n",
      "INFO:root:block    3 pos[1]=[45.0 20.8 -2.2] dr=8.43 t=5095.7ps kin=1.50 pot=1.31 Rg=35.327 dt=169.9fs dx=46.51pm \n",
      "INFO:root:block    4 pos[1]=[34.6 29.7 -6.3] dr=8.67 t=6369.6ps kin=1.48 pot=1.32 Rg=35.298 dt=169.9fs dx=46.22pm \n",
      "INFO:root:block    5 pos[1]=[40.2 24.1 -2.5] dr=8.71 t=7643.6ps kin=1.50 pot=1.32 Rg=35.143 dt=169.9fs dx=46.51pm \n",
      "INFO:root:block    6 pos[1]=[32.1 24.8 6.6] dr=8.36 t=8917.5ps kin=1.49 pot=1.31 Rg=35.184 dt=169.9fs dx=46.37pm \n",
      "INFO:root:block    7 pos[1]=[38.0 22.5 -3.3] dr=8.50 t=10191.4ps kin=1.50 pot=1.31 Rg=35.211 dt=169.9fs dx=46.44pm \n",
      "INFO:root:block    8 pos[1]=[33.8 27.9 -3.7] dr=8.50 t=11465.3ps kin=1.50 pot=1.32 Rg=35.422 dt=169.9fs dx=46.51pm \n",
      "INFO:root:block    9 pos[1]=[40.0 28.3 -4.8] dr=8.75 t=12739.3ps kin=1.51 pot=1.32 Rg=35.298 dt=169.9fs dx=46.54pm \n",
      "INFO:root:adding force harmonic_bonds 0\n",
      "INFO:root:adding force angle 1\n",
      "INFO:root:Using periodic boundary conditions\n",
      "INFO:root:adding force polynomial_repulsive 2\n"
     ]
    },
    {
     "name": "stdout",
     "output_type": "stream",
     "text": [
      "Exclude neighbouring chain particles from polynomial_repulsive\n",
      "Number of exceptions: 39999\n"
     ]
    },
    {
     "name": "stderr",
     "output_type": "stream",
     "text": [
      "INFO:root:Particles loaded. Potential energy is 1.350723\n",
      "INFO:root:block    0 pos[1]=[39.0 34.7 -1.0] dr=8.64 t=1273.8ps kin=1.50 pot=1.32 Rg=35.204 dt=169.8fs dx=46.51pm \n",
      "INFO:root:block    1 pos[1]=[35.5 14.8 12.3] dr=8.57 t=2547.5ps kin=1.50 pot=1.31 Rg=35.270 dt=169.8fs dx=46.51pm \n",
      "INFO:root:block    2 pos[1]=[39.0 15.5 17.5] dr=8.65 t=3821.3ps kin=1.49 pot=1.31 Rg=35.183 dt=169.8fs dx=46.33pm \n",
      "INFO:root:block    3 pos[1]=[44.4 22.4 18.9] dr=8.58 t=5095.0ps kin=1.50 pot=1.31 Rg=35.204 dt=169.8fs dx=46.49pm \n",
      "INFO:root:block    4 pos[1]=[35.2 20.8 12.7] dr=8.56 t=6368.8ps kin=1.49 pot=1.32 Rg=35.337 dt=169.8fs dx=46.35pm \n"
     ]
    }
   ],
   "source": [
    "milker = bondUpdater(LEFpositions)\n",
    "\n",
    "reporter = HDF5Reporter(folder=folder, max_data_length=100, overwrite=True, blocks_only=False)\n",
    "\n",
    "for iteration in range(simInitsTotal):\n",
    "    \n",
    "    # simulation parameters are defined below \n",
    "    a = Simulation(\n",
    "            platform=\"cuda\",\n",
    "            integrator=\"variableLangevin\", \n",
    "            error_tol=0.01, \n",
    "            GPU = \"0\", \n",
    "            collision_rate=0.03, \n",
    "            N = len(data),\n",
    "            reporters=[reporter],\n",
    "            PBCbox=[box, box, box],\n",
    "            precision=\"mixed\")  # timestep not necessary for variableLangevin\n",
    "\n",
    "    ############################## New code ##############################\n",
    "    a.set_data(data)  # loads a polymer, puts a center of mass at zero\n",
    "    \n",
    "    a.add_force(\n",
    "        forcekits.polymer_chains(\n",
    "            a,\n",
    "            chains=[(0, None, None)],\n",
    "\n",
    "                # By default the library assumes you have one polymer chain\n",
    "                # If you want to make it a ring, or more than one chain, use self.setChains\n",
    "                # self.setChains([(0,50,1),(50,None,0)]) will set a 50-monomer ring and a chain from monomer 50 to the end\n",
    "\n",
    "            bond_force_func=forces.harmonic_bonds,\n",
    "            bond_force_kwargs={\n",
    "                'bondLength':1.0,\n",
    "                'bondWiggleDistance':0.1, # Bond distance will fluctuate +- 0.05 on average\n",
    "             },\n",
    "\n",
    "            angle_force_func=forces.angle_force,\n",
    "            angle_force_kwargs={\n",
    "                'k':1.5\n",
    "                # K is more or less arbitrary, k=4 corresponds to presistence length of 4,\n",
    "                # k=1.5 is recommended to make polymer realistically flexible; k=8 is very stiff\n",
    "            },\n",
    "\n",
    "            nonbonded_force_func=forces.polynomial_repulsive,\n",
    "            nonbonded_force_kwargs={\n",
    "                'trunc':1.5, # this will let chains cross sometimes\n",
    "                'radiusMult':1.05, # this is from old code\n",
    "                #'trunc':10.0, # this will resolve chain crossings and will not let chain cross anymore\n",
    "            },\n",
    "\n",
    "            except_bonds=True,\n",
    "             \n",
    "        )\n",
    "    )\n",
    "    \n",
    "    # ------------ initializing milker; adding bonds ---------\n",
    "    # copied from addBond\n",
    "    kbond = a.kbondScalingFactor / (smcBondWiggleDist ** 2)\n",
    "    bondDist = smcBondDist * a.length_scale\n",
    "\n",
    "    activeParams = {\"length\":bondDist,\"k\":kbond}\n",
    "    inactiveParams = {\"length\":bondDist, \"k\":0}\n",
    "    milker.setParams(activeParams, inactiveParams)\n",
    "     \n",
    "    # this step actually puts all bonds in and sets first bonds to be what they should be\n",
    "    milker.setup(bondForce=a.force_dict['harmonic_bonds'],\n",
    "                blocks=restartSimulationEveryBlocks)\n",
    "\n",
    "    # If your simulation does not start, consider using energy minimization below\n",
    "    if iteration==0:\n",
    "        a.local_energy_minimization() \n",
    "    else:\n",
    "        a._apply_forces()\n",
    "    \n",
    "    for i in range(restartSimulationEveryBlocks):        \n",
    "        if i % saveEveryBlocks == (saveEveryBlocks - 1):  \n",
    "            a.do_block(steps=steps)\n",
    "        else:\n",
    "            a.integrator.step(steps)  # do steps without getting the positions from the GPU (faster)\n",
    "        if i < restartSimulationEveryBlocks - 1: \n",
    "            curBonds, pastBonds = milker.step(a.context)  # this updates bonds. You can do something with bonds here\n",
    "    data = a.get_data()  # save data and step, and delete the simulation\n",
    "    del a\n",
    "    \n",
    "    reporter.blocks_only = True  # Write output hdf5-files only for blocks\n",
    "\n",
    "    time.sleep(0.2)  # wait 200ms for sanity (to let garbage collector do its magic)\n",
    "    \n",
    "reporter.dump_data()"
   ]
  },
  {
   "cell_type": "code",
   "execution_count": null,
   "metadata": {},
   "outputs": [],
   "source": [
    "os.getcwd()"
   ]
  },
  {
   "cell_type": "code",
   "execution_count": null,
   "metadata": {},
   "outputs": [],
   "source": []
  },
  {
   "cell_type": "code",
   "execution_count": null,
   "metadata": {},
   "outputs": [],
   "source": []
  }
 ],
 "metadata": {
  "kernelspec": {
   "display_name": "Python 3",
   "language": "python",
   "name": "python3"
  },
  "language_info": {
   "codemirror_mode": {
    "name": "ipython",
    "version": 3
   },
   "file_extension": ".py",
   "mimetype": "text/x-python",
   "name": "python",
   "nbconvert_exporter": "python",
   "pygments_lexer": "ipython3",
   "version": "3.7.3"
  }
 },
 "nbformat": 4,
 "nbformat_minor": 2
}
