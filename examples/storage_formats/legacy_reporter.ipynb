{
 "cells": [
  {
   "cell_type": "markdown",
   "metadata": {},
   "source": [
    "## Legacy reporter \n",
    "\n",
    "\n",
    "A simple reporter that only saves conformations in a \"legacy\" format - using polymerutils.save \n"
   ]
  },
  {
   "cell_type": "code",
   "execution_count": 1,
   "metadata": {},
   "outputs": [],
   "source": [
    "import polychrom\n",
    "import numpy as np \n",
    "import warnings\n",
    "import h5py \n",
    "import glob\n",
    "from polychrom.simulation import Simulation\n",
    "import polychrom.starting_conformations\n",
    "import polychrom.forces, polychrom.forcekits\n",
    "import simtk.openmm \n",
    "import os \n",
    "import shutil\n",
    "import polychrom.polymerutils"
   ]
  },
  {
   "cell_type": "markdown",
   "metadata": {},
   "source": [
    "### Loading reporter and utils from a hdf5_format module \n"
   ]
  },
  {
   "cell_type": "code",
   "execution_count": 2,
   "metadata": {},
   "outputs": [],
   "source": [
    "from polychrom.legacy.legacy_format import LegacyReporter"
   ]
  },
  {
   "cell_type": "code",
   "execution_count": null,
   "metadata": {},
   "outputs": [],
   "source": []
  },
  {
   "cell_type": "markdown",
   "metadata": {},
   "source": [
    "### Making a simulation and passing a reporter "
   ]
  },
  {
   "cell_type": "code",
   "execution_count": 3,
   "metadata": {},
   "outputs": [
    {
     "name": "stderr",
     "output_type": "stream",
     "text": [
      "INFO:root:adding force harmonic_bonds 0\n",
      "INFO:root:adding force angle 1\n",
      "INFO:root:adding force polynomial_repulsive 2\n"
     ]
    },
    {
     "name": "stdout",
     "output_type": "stream",
     "text": [
      "Exclude neighbouring chain particles from polynomial_repulsive\n",
      "Number of exceptions: 9999\n"
     ]
    },
    {
     "name": "stderr",
     "output_type": "stream",
     "text": [
      "INFO:root:Particles loaded. Potential energy is 0.050724\n",
      "INFO:root:block    0 pos[1]=[13.9 14.0 13.9] dr=0.21 t=0.9ps kin=8.17 pot=3.97 Rg=11.017 dt=24.2fs dx=15.43pm \n",
      "INFO:root:block    1 pos[1]=[13.9 14.0 14.1] dr=0.17 t=1.2ps kin=3.86 pot=8.82 Rg=11.018 dt=20.7fs dx=9.07pm \n",
      "INFO:root:block    2 pos[1]=[13.8 14.0 14.1] dr=0.09 t=1.4ps kin=7.72 pot=5.01 Rg=11.020 dt=24.7fs dx=15.36pm \n",
      "INFO:root:block    3 pos[1]=[13.8 13.9 14.0] dr=0.15 t=1.6ps kin=6.35 pot=6.38 Rg=11.025 dt=22.4fs dx=12.61pm \n",
      "INFO:root:block    4 pos[1]=[13.7 13.9 14.0] dr=0.11 t=1.8ps kin=6.67 pot=6.03 Rg=11.030 dt=22.1fs dx=12.77pm \n",
      "INFO:root:block    5 pos[1]=[13.7 13.9 14.0] dr=0.12 t=2.0ps kin=6.77 pot=5.91 Rg=11.036 dt=22.1fs dx=12.87pm \n",
      "INFO:root:block    6 pos[1]=[13.7 13.9 14.1] dr=0.12 t=2.3ps kin=6.97 pot=5.69 Rg=11.041 dt=22.1fs dx=13.05pm \n",
      "INFO:root:block    7 pos[1]=[13.7 13.9 14.1] dr=0.13 t=2.5ps kin=7.22 pot=5.41 Rg=11.047 dt=22.1fs dx=13.29pm \n",
      "INFO:root:block    8 pos[1]=[13.7 13.8 14.2] dr=0.12 t=2.7ps kin=6.63 pot=5.98 Rg=11.054 dt=22.1fs dx=12.73pm \n",
      "INFO:root:block    9 pos[1]=[13.7 13.8 14.2] dr=0.12 t=2.9ps kin=7.23 pot=5.35 Rg=11.062 dt=22.1fs dx=13.29pm \n",
      "INFO:root:block   10 pos[1]=[13.7 13.9 14.3] dr=0.12 t=3.2ps kin=6.69 pot=5.87 Rg=11.070 dt=22.1fs dx=12.79pm \n",
      "INFO:root:block   11 pos[1]=[13.8 13.9 14.4] dr=0.12 t=3.4ps kin=7.05 pot=5.49 Rg=11.080 dt=22.1fs dx=13.13pm \n",
      "INFO:root:block   12 pos[1]=[13.8 13.8 14.5] dr=0.12 t=3.6ps kin=6.91 pot=5.60 Rg=11.089 dt=22.1fs dx=13.00pm \n",
      "INFO:root:block   13 pos[1]=[13.8 13.8 14.5] dr=0.13 t=3.8ps kin=6.94 pot=5.55 Rg=11.100 dt=22.1fs dx=13.02pm \n",
      "INFO:root:block   14 pos[1]=[13.8 13.8 14.6] dr=0.12 t=4.0ps kin=6.94 pot=5.53 Rg=11.111 dt=22.1fs dx=13.02pm \n",
      "INFO:root:block   15 pos[1]=[13.8 13.8 14.7] dr=0.12 t=4.3ps kin=6.87 pot=5.58 Rg=11.123 dt=22.1fs dx=12.96pm \n",
      "INFO:root:block   16 pos[1]=[13.9 13.8 14.7] dr=0.12 t=4.5ps kin=6.99 pot=5.43 Rg=11.135 dt=22.1fs dx=13.07pm \n",
      "INFO:root:block   17 pos[1]=[13.9 13.8 14.8] dr=0.13 t=4.7ps kin=6.90 pot=5.50 Rg=11.148 dt=22.1fs dx=12.98pm \n",
      "INFO:root:block   18 pos[1]=[14.0 13.9 14.9] dr=0.12 t=4.9ps kin=6.92 pot=5.44 Rg=11.162 dt=22.1fs dx=13.01pm \n"
     ]
    }
   ],
   "source": [
    "%rm  test_legacy/*\n",
    "data = polychrom.starting_conformations.grow_cubic(10000,30)\n",
    "\n",
    "\"\"\"\n",
    "Here we created a hdf5Reporter attached to a foler test, and we are saving 5 blocks per file \n",
    "(you should probalby use 50 here or 100. 5 is just for a showcase)\n",
    "\"\"\"\n",
    "reporter = LegacyReporter(folder=\"test_legacy\")\n",
    "\n",
    "\n",
    "\"\"\"\n",
    "Passing a reporter to the simulation object - many reporters are possible, and more will be added in a future\n",
    "\"\"\"\n",
    "sim = Simulation(N=10000, error_tol=0.001, collision_rate=0.01, integrator =\"variableLangevin\", platform=\"CPU\", \n",
    "                reporters=[reporter])\n",
    "sim.set_data(data)\n",
    "sim.add_force(polychrom.forcekits.polymer_chains(sim))\n",
    "sim._apply_forces()\n",
    "sim.add_force(polychrom.forces.spherical_confinement(sim, density=0.1))\n",
    "\n",
    "\n",
    "for i in range(19):        \n",
    "    \"\"\"\n",
    "    Here we pass two extra records: a string and an array-like object.\n",
    "    First becomes an attr, and second becomes an HDF5 dataset\n",
    "    \"\"\"\n",
    "    sim.do_block(10, save_extras={\"eggs\": \"I don't eat green eggs and ham!!!\", \"spam\":[1,2,3]})\n",
    "\n",
    "\"\"\"\n",
    "Here we are not forgetting to dump the last set of blocks that the reporter has. \n",
    "We have to do it at the end of every simulation. \n",
    "\n",
    "I tried adding it to the destructor to make it automatic,\n",
    "but some weird interactions with garbage collection made it not very useable. \n",
    "\"\"\"\n",
    "reporter.dump_data()\n",
    "\n",
    "\n"
   ]
  },
  {
   "cell_type": "markdown",
   "metadata": {},
   "source": [
    "### This is a list of files created in the trajectory folder"
   ]
  },
  {
   "cell_type": "code",
   "execution_count": 4,
   "metadata": {},
   "outputs": [
    {
     "name": "stdout",
     "output_type": "stream",
     "text": [
      "total 3808\r\n",
      "drwxrwxr-x 2 magus magus   4096 Sep  2 19:38 .\r\n",
      "drwxrwxr-x 5 magus magus   4096 Sep  2 19:37 ..\r\n",
      "-rw-rw-r-- 1 magus magus 201982 Sep  2 19:38 block0.dat\r\n",
      "-rw-rw-r-- 1 magus magus 201939 Sep  2 19:38 block10.dat\r\n",
      "-rw-rw-r-- 1 magus magus 201930 Sep  2 19:38 block11.dat\r\n",
      "-rw-rw-r-- 1 magus magus 201931 Sep  2 19:38 block12.dat\r\n",
      "-rw-rw-r-- 1 magus magus 201922 Sep  2 19:38 block13.dat\r\n",
      "-rw-rw-r-- 1 magus magus 201906 Sep  2 19:38 block14.dat\r\n",
      "-rw-rw-r-- 1 magus magus 201894 Sep  2 19:38 block15.dat\r\n",
      "-rw-rw-r-- 1 magus magus 201900 Sep  2 19:38 block16.dat\r\n",
      "-rw-rw-r-- 1 magus magus 201898 Sep  2 19:38 block17.dat\r\n",
      "-rw-rw-r-- 1 magus magus 201897 Sep  2 19:38 block18.dat\r\n",
      "-rw-rw-r-- 1 magus magus 201955 Sep  2 19:38 block1.dat\r\n",
      "-rw-rw-r-- 1 magus magus 201964 Sep  2 19:38 block2.dat\r\n",
      "-rw-rw-r-- 1 magus magus 201968 Sep  2 19:38 block3.dat\r\n",
      "-rw-rw-r-- 1 magus magus 201968 Sep  2 19:38 block4.dat\r\n",
      "-rw-rw-r-- 1 magus magus 201951 Sep  2 19:38 block5.dat\r\n",
      "-rw-rw-r-- 1 magus magus 201955 Sep  2 19:38 block6.dat\r\n",
      "-rw-rw-r-- 1 magus magus 201955 Sep  2 19:38 block7.dat\r\n",
      "-rw-rw-r-- 1 magus magus 201952 Sep  2 19:38 block8.dat\r\n",
      "-rw-rw-r-- 1 magus magus 201955 Sep  2 19:38 block9.dat\r\n"
     ]
    }
   ],
   "source": [
    "!ls -la test_legacy"
   ]
  },
  {
   "cell_type": "code",
   "execution_count": 5,
   "metadata": {},
   "outputs": [
    {
     "data": {
      "text/plain": [
       "array([[13.737, 13.871, 14.036],\n",
       "       [14.139, 14.372, 14.791],\n",
       "       [14.281, 13.777, 15.768],\n",
       "       ...,\n",
       "       [12.975, 13.068, 13.005],\n",
       "       [12.838, 13.504, 13.85 ],\n",
       "       [13.389, 14.242, 14.17 ]])"
      ]
     },
     "execution_count": 5,
     "metadata": {},
     "output_type": "execute_result"
    }
   ],
   "source": [
    "polychrom.polymerutils.load(\"test_legacy/block5.dat\")"
   ]
  },
  {
   "cell_type": "code",
   "execution_count": null,
   "metadata": {},
   "outputs": [],
   "source": []
  },
  {
   "cell_type": "code",
   "execution_count": null,
   "metadata": {},
   "outputs": [],
   "source": []
  }
 ],
 "metadata": {
  "kernelspec": {
   "display_name": "Python 3",
   "language": "python",
   "name": "python3"
  },
  "language_info": {
   "codemirror_mode": {
    "name": "ipython",
    "version": 3
   },
   "file_extension": ".py",
   "mimetype": "text/x-python",
   "name": "python",
   "nbconvert_exporter": "python",
   "pygments_lexer": "ipython3",
   "version": "3.7.4"
  }
 },
 "nbformat": 4,
 "nbformat_minor": 2
}
