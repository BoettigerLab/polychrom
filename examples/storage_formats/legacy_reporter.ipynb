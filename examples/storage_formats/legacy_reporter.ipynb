{
 "cells": [
  {
   "cell_type": "markdown",
   "metadata": {},
   "source": [
    "## Legacy reporter \n",
    "\n",
    "\n",
    "A simple reporter that only saves conformations in a \"legacy\" format - using polymerutils.save \n"
   ]
  },
  {
   "cell_type": "code",
   "execution_count": 1,
   "metadata": {},
   "outputs": [],
   "source": [
    "import polychrom\n",
    "import numpy as np \n",
    "import warnings\n",
    "import h5py \n",
    "import glob\n",
    "from polychrom.simulation import Simulation\n",
    "import polychrom.starting_conformations\n",
    "import polychrom.forces, polychrom.forcekits\n",
    "import simtk.openmm \n",
    "import os \n",
    "import shutil\n",
    "import polychrom.polymerutils"
   ]
  },
  {
   "cell_type": "markdown",
   "metadata": {},
   "source": [
    "### Loading reporter and utils from a hdf5_format module \n"
   ]
  },
  {
   "cell_type": "code",
   "execution_count": 2,
   "metadata": {},
   "outputs": [],
   "source": [
    "from polychrom.legacy.legacy_format import legacyReporter"
   ]
  },
  {
   "cell_type": "code",
   "execution_count": null,
   "metadata": {},
   "outputs": [],
   "source": []
  },
  {
   "cell_type": "markdown",
   "metadata": {},
   "source": [
    "### Making a simulation and passing a reporter "
   ]
  },
  {
   "cell_type": "code",
   "execution_count": 3,
   "metadata": {},
   "outputs": [
    {
     "name": "stderr",
     "output_type": "stream",
     "text": [
      "INFO:root:adding force HarmonicBonds 0\n",
      "INFO:root:adding force Angle 1\n",
      "INFO:root:adding force PolynomialRepulsive 2\n",
      "INFO:root:Particles loaded. Potential energy is 0.051229\n"
     ]
    },
    {
     "name": "stdout",
     "output_type": "stream",
     "text": [
      "Exclude neighbouring chain particles from PolynomialRepulsive\n",
      "Number of exceptions: 9999\n"
     ]
    },
    {
     "name": "stderr",
     "output_type": "stream",
     "text": [
      "INFO:root:block    1 pos[1]=[13.9 13.8 14.0] dr=0.21 t=0.9ps kin=8.23 pot=3.97 Rg=10.964 dt=24.1fs dx=15.41pm \n",
      "INFO:root:block    2 pos[1]=[13.9 13.7 14.1] dr=0.17 t=1.2ps kin=3.79 pot=8.95 Rg=10.965 dt=20.5fs dx=8.93pm \n",
      "INFO:root:block    3 pos[1]=[13.9 13.7 14.1] dr=0.09 t=1.4ps kin=7.77 pot=5.02 Rg=10.967 dt=24.5fs dx=15.28pm \n",
      "INFO:root:block    4 pos[1]=[13.8 13.6 14.1] dr=0.14 t=1.6ps kin=6.31 pot=6.49 Rg=10.971 dt=22.2fs dx=12.46pm \n",
      "INFO:root:block    5 pos[1]=[13.8 13.6 14.1] dr=0.11 t=1.8ps kin=6.75 pot=6.02 Rg=10.977 dt=21.9fs dx=12.71pm \n",
      "INFO:root:block    6 pos[1]=[13.8 13.6 14.2] dr=0.12 t=2.0ps kin=6.88 pot=5.87 Rg=10.982 dt=21.9fs dx=12.82pm \n",
      "INFO:root:block    7 pos[1]=[13.8 13.5 14.2] dr=0.12 t=2.3ps kin=6.86 pot=5.86 Rg=10.987 dt=21.9fs dx=12.81pm \n",
      "INFO:root:block    8 pos[1]=[13.8 13.5 14.2] dr=0.12 t=2.5ps kin=7.16 pot=5.54 Rg=10.993 dt=21.9fs dx=13.09pm \n",
      "INFO:root:block    9 pos[1]=[13.9 13.5 14.2] dr=0.12 t=2.7ps kin=6.82 pot=5.85 Rg=10.999 dt=21.9fs dx=12.77pm \n",
      "INFO:root:block   10 pos[1]=[13.9 13.6 14.3] dr=0.12 t=2.9ps kin=7.11 pot=5.54 Rg=11.007 dt=21.9fs dx=13.04pm \n",
      "INFO:root:block   11 pos[1]=[13.9 13.6 14.2] dr=0.12 t=3.1ps kin=6.81 pot=5.82 Rg=11.015 dt=21.9fs dx=12.75pm \n",
      "INFO:root:block   12 pos[1]=[13.9 13.5 14.1] dr=0.12 t=3.3ps kin=7.16 pot=5.44 Rg=11.023 dt=21.9fs dx=13.08pm \n",
      "INFO:root:block   13 pos[1]=[13.9 13.5 14.1] dr=0.12 t=3.6ps kin=6.84 pot=5.74 Rg=11.033 dt=21.9fs dx=12.79pm \n",
      "INFO:root:block   14 pos[1]=[14.0 13.6 14.2] dr=0.12 t=3.8ps kin=7.01 pot=5.54 Rg=11.042 dt=21.9fs dx=12.95pm \n",
      "INFO:root:block   15 pos[1]=[14.0 13.6 14.2] dr=0.12 t=4.0ps kin=6.94 pot=5.59 Rg=11.053 dt=21.9fs dx=12.88pm \n",
      "INFO:root:block   16 pos[1]=[14.0 13.6 14.2] dr=0.12 t=4.2ps kin=7.02 pot=5.49 Rg=11.064 dt=21.9fs dx=12.95pm \n",
      "INFO:root:block   17 pos[1]=[13.9 13.5 14.2] dr=0.12 t=4.4ps kin=6.95 pot=5.54 Rg=11.075 dt=21.9fs dx=12.89pm \n",
      "INFO:root:block   18 pos[1]=[14.0 13.5 14.2] dr=0.12 t=4.7ps kin=7.00 pot=5.47 Rg=11.088 dt=21.9fs dx=12.93pm \n",
      "INFO:root:block   19 pos[1]=[14.1 13.5 14.4] dr=0.12 t=4.9ps kin=7.02 pot=5.41 Rg=11.101 dt=21.9fs dx=12.96pm \n"
     ]
    }
   ],
   "source": [
    "%rm  test_legacy/*\n",
    "data = polychrom.starting_conformations.grow_cubic(10000,30)\n",
    "\n",
    "\"\"\"\n",
    "Here we created a hdf5Reporter attached to a foler test, and we are saving 5 blocks per file \n",
    "(you should probalby use 50 here or 100. 5 is just for a showcase)\n",
    "\"\"\"\n",
    "reporter = legacyReporter(folder=\"test_legacy\")\n",
    "\n",
    "\n",
    "\"\"\"\n",
    "Passing a reporter to the simulation object - many reporters are possible, and more will be added in a future\n",
    "\"\"\"\n",
    "sim = Simulation(N=10000, error_tol=0.001, collision_rate=0.01, integrator =\"variableLangevin\", platform=\"CPU\", \n",
    "                reporters=[reporter])\n",
    "sim.setData(data)\n",
    "sim.addForce(polychrom.forcekits.polymerChains(sim))\n",
    "sim._applyForces()\n",
    "sim.addForce(polychrom.forces.sphericalConfinement(sim, density=0.1))\n",
    "\n",
    "\n",
    "for i in range(19):        \n",
    "    \"\"\"\n",
    "    Here we pass two extra records: a string and an array-like object.\n",
    "    First becomes an attr, and second becomes an HDF5 dataset\n",
    "    \"\"\"\n",
    "    sim.doBlock(10, saveExtras={\"eggs\": \"I don't eat green eggs and ham!!!\", \"spam\":[1,2,3]})\n",
    "\n",
    "\"\"\"\n",
    "Here we are not forgetting to dump the last set of blocks that the reporter has. \n",
    "We have to do it at the end of every simulation. \n",
    "\n",
    "I tried adding it to the destructor to make it automatic,\n",
    "but some weird interactions with garbage collection made it not very useable. \n",
    "\"\"\"\n",
    "reporter.dump_data()\n",
    "\n",
    "\n"
   ]
  },
  {
   "cell_type": "markdown",
   "metadata": {},
   "source": [
    "### This is a list of files created in the trajectory folder"
   ]
  },
  {
   "cell_type": "code",
   "execution_count": 4,
   "metadata": {},
   "outputs": [
    {
     "name": "stdout",
     "output_type": "stream",
     "text": [
      "total 3808\r\n",
      "drwxrwxr-x 2 magus magus   4096 Sep  2 10:57 .\r\n",
      "drwxrwxr-x 5 magus magus   4096 Sep  2 10:56 ..\r\n",
      "-rw-rw-r-- 1 magus magus 202158 Sep  2 10:57 block0.dat\r\n",
      "-rw-rw-r-- 1 magus magus 202129 Sep  2 10:57 block10.dat\r\n",
      "-rw-rw-r-- 1 magus magus 202144 Sep  2 10:57 block11.dat\r\n",
      "-rw-rw-r-- 1 magus magus 202140 Sep  2 10:57 block12.dat\r\n",
      "-rw-rw-r-- 1 magus magus 202144 Sep  2 10:57 block13.dat\r\n",
      "-rw-rw-r-- 1 magus magus 202138 Sep  2 10:57 block14.dat\r\n",
      "-rw-rw-r-- 1 magus magus 202143 Sep  2 10:57 block15.dat\r\n",
      "-rw-rw-r-- 1 magus magus 202131 Sep  2 10:57 block16.dat\r\n",
      "-rw-rw-r-- 1 magus magus 202137 Sep  2 10:57 block17.dat\r\n",
      "-rw-rw-r-- 1 magus magus 202141 Sep  2 10:57 block18.dat\r\n",
      "-rw-rw-r-- 1 magus magus 202145 Sep  2 10:57 block1.dat\r\n",
      "-rw-rw-r-- 1 magus magus 202153 Sep  2 10:57 block2.dat\r\n",
      "-rw-rw-r-- 1 magus magus 202146 Sep  2 10:57 block3.dat\r\n",
      "-rw-rw-r-- 1 magus magus 202156 Sep  2 10:57 block4.dat\r\n",
      "-rw-rw-r-- 1 magus magus 202160 Sep  2 10:57 block5.dat\r\n",
      "-rw-rw-r-- 1 magus magus 202154 Sep  2 10:57 block6.dat\r\n",
      "-rw-rw-r-- 1 magus magus 202137 Sep  2 10:57 block7.dat\r\n",
      "-rw-rw-r-- 1 magus magus 202134 Sep  2 10:57 block8.dat\r\n",
      "-rw-rw-r-- 1 magus magus 202131 Sep  2 10:57 block9.dat\r\n"
     ]
    }
   ],
   "source": [
    "!ls -la test_legacy"
   ]
  },
  {
   "cell_type": "code",
   "execution_count": 5,
   "metadata": {},
   "outputs": [
    {
     "data": {
      "text/plain": [
       "array([[13.83 , 13.575, 14.195],\n",
       "       [14.047, 14.09 , 14.929],\n",
       "       [14.091, 13.117, 14.986],\n",
       "       ...,\n",
       "       [16.301, 13.966, 15.068],\n",
       "       [15.428, 14.105, 14.458],\n",
       "       [14.834, 14.411, 13.615]])"
      ]
     },
     "execution_count": 5,
     "metadata": {},
     "output_type": "execute_result"
    }
   ],
   "source": [
    "polychrom.polymerutils.load(\"test_legacy/block5.dat\")"
   ]
  },
  {
   "cell_type": "code",
   "execution_count": null,
   "metadata": {},
   "outputs": [],
   "source": []
  }
 ],
 "metadata": {
  "kernelspec": {
   "display_name": "Python 3",
   "language": "python",
   "name": "python3"
  },
  "language_info": {
   "codemirror_mode": {
    "name": "ipython",
    "version": 3
   },
   "file_extension": ".py",
   "mimetype": "text/x-python",
   "name": "python",
   "nbconvert_exporter": "python",
   "pygments_lexer": "ipython3",
   "version": "3.7.4"
  }
 },
 "nbformat": 4,
 "nbformat_minor": 2
}
