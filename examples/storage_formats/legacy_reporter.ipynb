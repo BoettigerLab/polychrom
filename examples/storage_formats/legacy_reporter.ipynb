{
 "cells": [
  {
   "cell_type": "markdown",
   "metadata": {},
   "source": [
    "## Legacy reporter \n",
    "\n",
    "\n",
    "A simple reporter that only saves conformations in a \"legacy\" format - using polymerutils.save \n"
   ]
  },
  {
   "cell_type": "code",
   "execution_count": 1,
   "metadata": {},
   "outputs": [],
   "source": [
    "import polychrom\n",
    "import numpy as np \n",
    "import warnings\n",
    "import h5py \n",
    "import glob\n",
    "from polychrom.simulation import Simulation\n",
    "import polychrom.starting_conformations\n",
    "import polychrom.forces, polychrom.forcekits\n",
    "import simtk.openmm \n",
    "import os \n",
    "import shutil\n",
    "import polychrom.polymerutils"
   ]
  },
  {
   "cell_type": "markdown",
   "metadata": {},
   "source": [
    "### Loading reporter and utils from a hdf5_format module \n"
   ]
  },
  {
   "cell_type": "code",
   "execution_count": 2,
   "metadata": {},
   "outputs": [],
   "source": [
    "from polychrom.legacy.legacy_format import LegacyReporter"
   ]
  },
  {
   "cell_type": "code",
   "execution_count": null,
   "metadata": {},
   "outputs": [],
   "source": []
  },
  {
   "cell_type": "markdown",
   "metadata": {},
   "source": [
    "### Making a simulation and passing a reporter "
   ]
  },
  {
   "cell_type": "code",
   "execution_count": 3,
   "metadata": {},
   "outputs": [
    {
     "name": "stderr",
     "output_type": "stream",
     "text": [
      "INFO:root:adding force HarmonicBonds 0\n",
      "INFO:root:adding force Angle 1\n",
      "INFO:root:adding force PolynomialRepulsive 2\n",
      "INFO:root:Particles loaded. Potential energy is 0.050551\n"
     ]
    },
    {
     "name": "stdout",
     "output_type": "stream",
     "text": [
      "Exclude neighbouring chain particles from PolynomialRepulsive\n",
      "Number of exceptions: 9999\n"
     ]
    },
    {
     "name": "stderr",
     "output_type": "stream",
     "text": [
      "INFO:root:block    1 pos[1]=[13.9 14.2 14.3] dr=0.21 t=0.9ps kin=8.20 pot=3.92 Rg=11.076 dt=24.2fs dx=15.46pm \n",
      "INFO:root:block    2 pos[1]=[13.9 14.2 14.3] dr=0.17 t=1.2ps kin=3.82 pot=8.83 Rg=11.077 dt=20.6fs dx=8.99pm \n",
      "INFO:root:block    3 pos[1]=[13.7 14.2 14.3] dr=0.09 t=1.4ps kin=7.74 pot=4.96 Rg=11.079 dt=24.7fs dx=15.36pm \n",
      "INFO:root:block    4 pos[1]=[13.7 14.2 14.3] dr=0.14 t=1.6ps kin=6.27 pot=6.44 Rg=11.083 dt=22.3fs dx=12.45pm \n",
      "INFO:root:block    5 pos[1]=[13.8 14.2 14.3] dr=0.11 t=1.8ps kin=6.73 pot=5.95 Rg=11.087 dt=22.0fs dx=12.76pm \n",
      "INFO:root:block    6 pos[1]=[13.9 14.2 14.4] dr=0.12 t=2.0ps kin=6.77 pot=5.88 Rg=11.092 dt=22.0fs dx=12.80pm \n",
      "INFO:root:block    7 pos[1]=[13.7 14.1 14.3] dr=0.12 t=2.3ps kin=6.75 pot=5.88 Rg=11.097 dt=22.0fs dx=12.78pm \n",
      "INFO:root:block    8 pos[1]=[13.6 14.1 14.3] dr=0.12 t=2.5ps kin=7.20 pot=5.40 Rg=11.102 dt=22.0fs dx=13.20pm \n",
      "INFO:root:block    9 pos[1]=[13.7 14.1 14.3] dr=0.12 t=2.7ps kin=6.71 pot=5.87 Rg=11.108 dt=22.0fs dx=12.74pm \n",
      "INFO:root:block   10 pos[1]=[13.7 14.2 14.3] dr=0.12 t=2.9ps kin=7.11 pot=5.45 Rg=11.115 dt=22.0fs dx=13.11pm \n",
      "INFO:root:block   11 pos[1]=[13.7 14.2 14.3] dr=0.12 t=3.1ps kin=6.67 pot=5.87 Rg=11.123 dt=22.0fs dx=12.70pm \n",
      "INFO:root:block   12 pos[1]=[13.6 14.2 14.4] dr=0.12 t=3.4ps kin=7.02 pot=5.49 Rg=11.131 dt=22.0fs dx=13.03pm \n",
      "INFO:root:block   13 pos[1]=[13.6 14.3 14.4] dr=0.12 t=3.6ps kin=6.77 pot=5.72 Rg=11.139 dt=22.0fs dx=12.79pm \n",
      "INFO:root:block   14 pos[1]=[13.5 14.3 14.4] dr=0.12 t=3.8ps kin=6.95 pot=5.51 Rg=11.149 dt=22.0fs dx=12.97pm \n",
      "INFO:root:block   15 pos[1]=[13.5 14.3 14.4] dr=0.12 t=4.0ps kin=6.90 pot=5.54 Rg=11.159 dt=22.0fs dx=12.92pm \n",
      "INFO:root:block   16 pos[1]=[13.5 14.4 14.4] dr=0.12 t=4.2ps kin=6.85 pot=5.56 Rg=11.169 dt=22.0fs dx=12.87pm \n",
      "INFO:root:block   17 pos[1]=[13.5 14.5 14.4] dr=0.12 t=4.5ps kin=6.89 pot=5.50 Rg=11.180 dt=22.0fs dx=12.91pm \n",
      "INFO:root:block   18 pos[1]=[13.4 14.5 14.5] dr=0.12 t=4.7ps kin=6.85 pot=5.52 Rg=11.192 dt=22.0fs dx=12.87pm \n",
      "INFO:root:block   19 pos[1]=[13.3 14.4 14.5] dr=0.12 t=4.9ps kin=6.94 pot=5.40 Rg=11.205 dt=22.0fs dx=12.95pm \n"
     ]
    }
   ],
   "source": [
    "%rm  test_legacy/*\n",
    "data = polychrom.starting_conformations.grow_cubic(10000,30)\n",
    "\n",
    "\"\"\"\n",
    "Here we created a hdf5Reporter attached to a foler test, and we are saving 5 blocks per file \n",
    "(you should probalby use 50 here or 100. 5 is just for a showcase)\n",
    "\"\"\"\n",
    "reporter = LegacyReporter(folder=\"test_legacy\")\n",
    "\n",
    "\n",
    "\"\"\"\n",
    "Passing a reporter to the simulation object - many reporters are possible, and more will be added in a future\n",
    "\"\"\"\n",
    "sim = Simulation(N=10000, error_tol=0.001, collision_rate=0.01, integrator =\"variableLangevin\", platform=\"CPU\", \n",
    "                reporters=[reporter])\n",
    "sim.set_data(data)\n",
    "sim.add_force(polychrom.forcekits.polymerChains(sim))\n",
    "sim._apply_forces()\n",
    "sim.add_force(polychrom.forces.sphericalConfinement(sim, density=0.1))\n",
    "\n",
    "\n",
    "for i in range(19):        \n",
    "    \"\"\"\n",
    "    Here we pass two extra records: a string and an array-like object.\n",
    "    First becomes an attr, and second becomes an HDF5 dataset\n",
    "    \"\"\"\n",
    "    sim.do_block(10, saveExtras={\"eggs\": \"I don't eat green eggs and ham!!!\", \"spam\":[1,2,3]})\n",
    "\n",
    "\"\"\"\n",
    "Here we are not forgetting to dump the last set of blocks that the reporter has. \n",
    "We have to do it at the end of every simulation. \n",
    "\n",
    "I tried adding it to the destructor to make it automatic,\n",
    "but some weird interactions with garbage collection made it not very useable. \n",
    "\"\"\"\n",
    "reporter.dump_data()\n",
    "\n",
    "\n"
   ]
  },
  {
   "cell_type": "markdown",
   "metadata": {},
   "source": [
    "### This is a list of files created in the trajectory folder"
   ]
  },
  {
   "cell_type": "code",
   "execution_count": 4,
   "metadata": {},
   "outputs": [
    {
     "name": "stdout",
     "output_type": "stream",
     "text": [
      "total 3732\r\n",
      "drwxrwxr-x 2 magus magus   4096 Sep  2 15:34 .\r\n",
      "drwxrwxr-x 5 magus magus   4096 Sep  2 15:28 ..\r\n",
      "-rw-rw-r-- 1 magus magus 200606 Sep  2 15:34 block0.dat\r\n",
      "-rw-rw-r-- 1 magus magus 200603 Sep  2 15:34 block10.dat\r\n",
      "-rw-rw-r-- 1 magus magus 200587 Sep  2 15:34 block11.dat\r\n",
      "-rw-rw-r-- 1 magus magus 200586 Sep  2 15:34 block12.dat\r\n",
      "-rw-rw-r-- 1 magus magus 200576 Sep  2 15:34 block13.dat\r\n",
      "-rw-rw-r-- 1 magus magus 200596 Sep  2 15:34 block14.dat\r\n",
      "-rw-rw-r-- 1 magus magus 200610 Sep  2 15:34 block15.dat\r\n",
      "-rw-rw-r-- 1 magus magus 200605 Sep  2 15:34 block16.dat\r\n",
      "-rw-rw-r-- 1 magus magus 200592 Sep  2 15:34 block17.dat\r\n",
      "-rw-rw-r-- 1 magus magus 200601 Sep  2 15:34 block18.dat\r\n",
      "-rw-rw-r-- 1 magus magus 200605 Sep  2 15:34 block1.dat\r\n",
      "-rw-rw-r-- 1 magus magus 200573 Sep  2 15:34 block2.dat\r\n",
      "-rw-rw-r-- 1 magus magus 200590 Sep  2 15:34 block3.dat\r\n",
      "-rw-rw-r-- 1 magus magus 200601 Sep  2 15:34 block4.dat\r\n",
      "-rw-rw-r-- 1 magus magus 200615 Sep  2 15:34 block5.dat\r\n",
      "-rw-rw-r-- 1 magus magus 200604 Sep  2 15:34 block6.dat\r\n",
      "-rw-rw-r-- 1 magus magus 200591 Sep  2 15:34 block7.dat\r\n",
      "-rw-rw-r-- 1 magus magus 200604 Sep  2 15:34 block8.dat\r\n",
      "-rw-rw-r-- 1 magus magus 200606 Sep  2 15:34 block9.dat\r\n"
     ]
    }
   ],
   "source": [
    "!ls -la test_legacy"
   ]
  },
  {
   "cell_type": "code",
   "execution_count": 5,
   "metadata": {},
   "outputs": [
    {
     "data": {
      "text/plain": [
       "array([[13.889, 14.204, 14.378],\n",
       "       [12.747, 13.854, 14.075],\n",
       "       [12.05 , 13.958, 13.383],\n",
       "       ...,\n",
       "       [15.048, 15.021, 12.98 ],\n",
       "       [14.19 , 15.234, 12.93 ],\n",
       "       [14.022, 14.294, 13.121]])"
      ]
     },
     "execution_count": 5,
     "metadata": {},
     "output_type": "execute_result"
    }
   ],
   "source": [
    "polychrom.polymerutils.load(\"test_legacy/block5.dat\")"
   ]
  },
  {
   "cell_type": "code",
   "execution_count": 7,
   "metadata": {},
   "outputs": [
    {
     "data": {
      "text/plain": [
       "<bound method Simulation.addForce of <polychrom.simulation.Simulation object at 0x7f1c3e9ff590>>"
      ]
     },
     "execution_count": 7,
     "metadata": {},
     "output_type": "execute_result"
    }
   ],
   "source": [
    "sim.addForce"
   ]
  },
  {
   "cell_type": "code",
   "execution_count": null,
   "metadata": {},
   "outputs": [],
   "source": []
  }
 ],
 "metadata": {
  "kernelspec": {
   "display_name": "Python 3",
   "language": "python",
   "name": "python3"
  },
  "language_info": {
   "codemirror_mode": {
    "name": "ipython",
    "version": 3
   },
   "file_extension": ".py",
   "mimetype": "text/x-python",
   "name": "python",
   "nbconvert_exporter": "python",
   "pygments_lexer": "ipython3",
   "version": "3.7.4"
  }
 },
 "nbformat": 4,
 "nbformat_minor": 2
}
